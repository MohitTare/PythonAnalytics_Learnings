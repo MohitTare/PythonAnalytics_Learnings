{
 "cells": [
  {
   "cell_type": "code",
   "execution_count": 1,
   "metadata": {
    "collapsed": true
   },
   "outputs": [],
   "source": [
    "import pandas as pd\n",
    "from pandas import DataFrame,Series\n",
    "import numpy as np\n",
    "import matplotlib as mpl\n",
    "%matplotlib inline\n"
   ]
  },
  {
   "cell_type": "code",
   "execution_count": 2,
   "metadata": {
    "collapsed": false
   },
   "outputs": [
    {
     "name": "stderr",
     "output_type": "stream",
     "text": [
      "C:\\Users\\mtare\\AppData\\Local\\Continuum\\Anaconda\\lib\\site-packages\\pandas\\io\\parsers.py:1170: DtypeWarning: Columns (3,4,5,6,12) have mixed types. Specify dtype option on import or set low_memory=False.\n",
      "  data = self._reader.read(nrows)\n"
     ]
    }
   ],
   "source": [
    "sfdf = pd.read_csv('E:\\Analytics Practice\\Data sets\\sf-salaries-release-2015-12-21-03-21-32\\output\\Salaries.csv')"
   ]
  },
  {
   "cell_type": "code",
   "execution_count": 3,
   "metadata": {
    "collapsed": false
   },
   "outputs": [
    {
     "name": "stdout",
     "output_type": "stream",
     "text": [
      "<class 'pandas.core.frame.DataFrame'>\n",
      "Int64Index: 148654 entries, 0 to 148653\n",
      "Data columns (total 13 columns):\n",
      "Id                  148654 non-null int64\n",
      "EmployeeName        148654 non-null object\n",
      "JobTitle            148654 non-null object\n",
      "BasePay             148049 non-null object\n",
      "OvertimePay         148654 non-null object\n",
      "OtherPay            148654 non-null object\n",
      "Benefits            112495 non-null object\n",
      "TotalPay            148654 non-null float64\n",
      "TotalPayBenefits    148654 non-null float64\n",
      "Year                148654 non-null int64\n",
      "Notes               0 non-null float64\n",
      "Agency              148654 non-null object\n",
      "Status              38119 non-null object\n",
      "dtypes: float64(3), int64(2), object(8)\n",
      "memory usage: 15.9+ MB\n"
     ]
    }
   ],
   "source": [
    "sfdf.info()"
   ]
  },
  {
   "cell_type": "code",
   "execution_count": 4,
   "metadata": {
    "collapsed": false
   },
   "outputs": [
    {
     "data": {
      "text/html": [
       "<div>\n",
       "<table border=\"1\" class=\"dataframe\">\n",
       "  <thead>\n",
       "    <tr style=\"text-align: right;\">\n",
       "      <th></th>\n",
       "      <th>Id</th>\n",
       "      <th>EmployeeName</th>\n",
       "      <th>JobTitle</th>\n",
       "      <th>BasePay</th>\n",
       "      <th>OvertimePay</th>\n",
       "      <th>OtherPay</th>\n",
       "      <th>Benefits</th>\n",
       "      <th>TotalPay</th>\n",
       "      <th>TotalPayBenefits</th>\n",
       "      <th>Year</th>\n",
       "      <th>Notes</th>\n",
       "      <th>Agency</th>\n",
       "      <th>Status</th>\n",
       "    </tr>\n",
       "  </thead>\n",
       "  <tbody>\n",
       "    <tr>\n",
       "      <th>0</th>\n",
       "      <td>1</td>\n",
       "      <td>NATHANIEL FORD</td>\n",
       "      <td>GENERAL MANAGER-METROPOLITAN TRANSIT AUTHORITY</td>\n",
       "      <td>167411.2</td>\n",
       "      <td>0</td>\n",
       "      <td>400184.2</td>\n",
       "      <td>NaN</td>\n",
       "      <td>567595.43</td>\n",
       "      <td>567595.43</td>\n",
       "      <td>2011</td>\n",
       "      <td>NaN</td>\n",
       "      <td>San Francisco</td>\n",
       "      <td>NaN</td>\n",
       "    </tr>\n",
       "    <tr>\n",
       "      <th>1</th>\n",
       "      <td>2</td>\n",
       "      <td>GARY JIMENEZ</td>\n",
       "      <td>CAPTAIN III (POLICE DEPARTMENT)</td>\n",
       "      <td>155966</td>\n",
       "      <td>245131.9</td>\n",
       "      <td>137811.4</td>\n",
       "      <td>NaN</td>\n",
       "      <td>538909.28</td>\n",
       "      <td>538909.28</td>\n",
       "      <td>2011</td>\n",
       "      <td>NaN</td>\n",
       "      <td>San Francisco</td>\n",
       "      <td>NaN</td>\n",
       "    </tr>\n",
       "    <tr>\n",
       "      <th>2</th>\n",
       "      <td>3</td>\n",
       "      <td>ALBERT PARDINI</td>\n",
       "      <td>CAPTAIN III (POLICE DEPARTMENT)</td>\n",
       "      <td>212739.1</td>\n",
       "      <td>106088.2</td>\n",
       "      <td>16452.6</td>\n",
       "      <td>NaN</td>\n",
       "      <td>335279.91</td>\n",
       "      <td>335279.91</td>\n",
       "      <td>2011</td>\n",
       "      <td>NaN</td>\n",
       "      <td>San Francisco</td>\n",
       "      <td>NaN</td>\n",
       "    </tr>\n",
       "    <tr>\n",
       "      <th>3</th>\n",
       "      <td>4</td>\n",
       "      <td>CHRISTOPHER CHONG</td>\n",
       "      <td>WIRE ROPE CABLE MAINTENANCE MECHANIC</td>\n",
       "      <td>77916</td>\n",
       "      <td>56120.71</td>\n",
       "      <td>198306.9</td>\n",
       "      <td>NaN</td>\n",
       "      <td>332343.61</td>\n",
       "      <td>332343.61</td>\n",
       "      <td>2011</td>\n",
       "      <td>NaN</td>\n",
       "      <td>San Francisco</td>\n",
       "      <td>NaN</td>\n",
       "    </tr>\n",
       "    <tr>\n",
       "      <th>4</th>\n",
       "      <td>5</td>\n",
       "      <td>PATRICK GARDNER</td>\n",
       "      <td>DEPUTY CHIEF OF DEPARTMENT,(FIRE DEPARTMENT)</td>\n",
       "      <td>134401.6</td>\n",
       "      <td>9737</td>\n",
       "      <td>182234.6</td>\n",
       "      <td>NaN</td>\n",
       "      <td>326373.19</td>\n",
       "      <td>326373.19</td>\n",
       "      <td>2011</td>\n",
       "      <td>NaN</td>\n",
       "      <td>San Francisco</td>\n",
       "      <td>NaN</td>\n",
       "    </tr>\n",
       "  </tbody>\n",
       "</table>\n",
       "</div>"
      ],
      "text/plain": [
       "   Id       EmployeeName                                        JobTitle  \\\n",
       "0   1     NATHANIEL FORD  GENERAL MANAGER-METROPOLITAN TRANSIT AUTHORITY   \n",
       "1   2       GARY JIMENEZ                 CAPTAIN III (POLICE DEPARTMENT)   \n",
       "2   3     ALBERT PARDINI                 CAPTAIN III (POLICE DEPARTMENT)   \n",
       "3   4  CHRISTOPHER CHONG            WIRE ROPE CABLE MAINTENANCE MECHANIC   \n",
       "4   5    PATRICK GARDNER    DEPUTY CHIEF OF DEPARTMENT,(FIRE DEPARTMENT)   \n",
       "\n",
       "    BasePay OvertimePay  OtherPay Benefits   TotalPay  TotalPayBenefits  Year  \\\n",
       "0  167411.2           0  400184.2      NaN  567595.43         567595.43  2011   \n",
       "1    155966    245131.9  137811.4      NaN  538909.28         538909.28  2011   \n",
       "2  212739.1    106088.2   16452.6      NaN  335279.91         335279.91  2011   \n",
       "3     77916    56120.71  198306.9      NaN  332343.61         332343.61  2011   \n",
       "4  134401.6        9737  182234.6      NaN  326373.19         326373.19  2011   \n",
       "\n",
       "   Notes         Agency Status  \n",
       "0    NaN  San Francisco    NaN  \n",
       "1    NaN  San Francisco    NaN  \n",
       "2    NaN  San Francisco    NaN  \n",
       "3    NaN  San Francisco    NaN  \n",
       "4    NaN  San Francisco    NaN  "
      ]
     },
     "execution_count": 4,
     "metadata": {},
     "output_type": "execute_result"
    }
   ],
   "source": [
    "sfdf.head()"
   ]
  },
  {
   "cell_type": "code",
   "execution_count": 5,
   "metadata": {
    "collapsed": false
   },
   "outputs": [
    {
     "data": {
      "text/html": [
       "<div>\n",
       "<table border=\"1\" class=\"dataframe\">\n",
       "  <thead>\n",
       "    <tr style=\"text-align: right;\">\n",
       "      <th></th>\n",
       "      <th>Id</th>\n",
       "      <th>EmployeeName</th>\n",
       "      <th>JobTitle</th>\n",
       "      <th>BasePay</th>\n",
       "      <th>OvertimePay</th>\n",
       "      <th>OtherPay</th>\n",
       "      <th>Benefits</th>\n",
       "      <th>TotalPay</th>\n",
       "      <th>TotalPayBenefits</th>\n",
       "      <th>Year</th>\n",
       "      <th>Notes</th>\n",
       "      <th>Agency</th>\n",
       "      <th>Status</th>\n",
       "    </tr>\n",
       "  </thead>\n",
       "  <tbody>\n",
       "    <tr>\n",
       "      <th>72832</th>\n",
       "      <td>72833</td>\n",
       "      <td>Irwin Sidharta</td>\n",
       "      <td>Junior Clerk</td>\n",
       "      <td>-166.01</td>\n",
       "      <td>249.02</td>\n",
       "      <td>0</td>\n",
       "      <td>6.56</td>\n",
       "      <td>83.01</td>\n",
       "      <td>89.57</td>\n",
       "      <td>2012</td>\n",
       "      <td>NaN</td>\n",
       "      <td>San Francisco</td>\n",
       "      <td>NaN</td>\n",
       "    </tr>\n",
       "    <tr>\n",
       "      <th>72865</th>\n",
       "      <td>72866</td>\n",
       "      <td>Robert Scott</td>\n",
       "      <td>Junior Clerk</td>\n",
       "      <td>-121.63</td>\n",
       "      <td>182.7</td>\n",
       "      <td>0</td>\n",
       "      <td>5.44</td>\n",
       "      <td>61.07</td>\n",
       "      <td>66.51</td>\n",
       "      <td>2012</td>\n",
       "      <td>NaN</td>\n",
       "      <td>San Francisco</td>\n",
       "      <td>NaN</td>\n",
       "    </tr>\n",
       "    <tr>\n",
       "      <th>72872</th>\n",
       "      <td>72873</td>\n",
       "      <td>Chung Huey Kung</td>\n",
       "      <td>Junior Clerk</td>\n",
       "      <td>-109.22</td>\n",
       "      <td>163.83</td>\n",
       "      <td>0</td>\n",
       "      <td>4.32</td>\n",
       "      <td>54.61</td>\n",
       "      <td>58.93</td>\n",
       "      <td>2012</td>\n",
       "      <td>NaN</td>\n",
       "      <td>San Francisco</td>\n",
       "      <td>NaN</td>\n",
       "    </tr>\n",
       "    <tr>\n",
       "      <th>72874</th>\n",
       "      <td>72875</td>\n",
       "      <td>Jordan Li</td>\n",
       "      <td>Junior Clerk</td>\n",
       "      <td>-106.6</td>\n",
       "      <td>159.9</td>\n",
       "      <td>0</td>\n",
       "      <td>4.66</td>\n",
       "      <td>53.30</td>\n",
       "      <td>57.96</td>\n",
       "      <td>2012</td>\n",
       "      <td>NaN</td>\n",
       "      <td>San Francisco</td>\n",
       "      <td>NaN</td>\n",
       "    </tr>\n",
       "    <tr>\n",
       "      <th>72878</th>\n",
       "      <td>72879</td>\n",
       "      <td>Richard Jackson</td>\n",
       "      <td>Junior Clerk</td>\n",
       "      <td>-101.88</td>\n",
       "      <td>153.08</td>\n",
       "      <td>0</td>\n",
       "      <td>4.55</td>\n",
       "      <td>51.20</td>\n",
       "      <td>55.75</td>\n",
       "      <td>2012</td>\n",
       "      <td>NaN</td>\n",
       "      <td>San Francisco</td>\n",
       "      <td>NaN</td>\n",
       "    </tr>\n",
       "    <tr>\n",
       "      <th>72884</th>\n",
       "      <td>72885</td>\n",
       "      <td>DiMarco McGhee-Stewart</td>\n",
       "      <td>Junior Clerk</td>\n",
       "      <td>-93.14</td>\n",
       "      <td>139.97</td>\n",
       "      <td>0</td>\n",
       "      <td>4.17</td>\n",
       "      <td>46.83</td>\n",
       "      <td>51.00</td>\n",
       "      <td>2012</td>\n",
       "      <td>NaN</td>\n",
       "      <td>San Francisco</td>\n",
       "      <td>NaN</td>\n",
       "    </tr>\n",
       "    <tr>\n",
       "      <th>72888</th>\n",
       "      <td>72889</td>\n",
       "      <td>Leopoldo Marasigan</td>\n",
       "      <td>Junior Clerk</td>\n",
       "      <td>-87.38</td>\n",
       "      <td>131.06</td>\n",
       "      <td>0</td>\n",
       "      <td>3.89</td>\n",
       "      <td>43.68</td>\n",
       "      <td>47.57</td>\n",
       "      <td>2012</td>\n",
       "      <td>NaN</td>\n",
       "      <td>San Francisco</td>\n",
       "      <td>NaN</td>\n",
       "    </tr>\n",
       "    <tr>\n",
       "      <th>72894</th>\n",
       "      <td>72895</td>\n",
       "      <td>Douglas Avalos</td>\n",
       "      <td>Junior Clerk</td>\n",
       "      <td>-75.67</td>\n",
       "      <td>113.76</td>\n",
       "      <td>0</td>\n",
       "      <td>3.39</td>\n",
       "      <td>38.09</td>\n",
       "      <td>41.48</td>\n",
       "      <td>2012</td>\n",
       "      <td>NaN</td>\n",
       "      <td>San Francisco</td>\n",
       "      <td>NaN</td>\n",
       "    </tr>\n",
       "    <tr>\n",
       "      <th>72908</th>\n",
       "      <td>72909</td>\n",
       "      <td>Norma Rodriguez</td>\n",
       "      <td>Junior Clerk</td>\n",
       "      <td>-59.59</td>\n",
       "      <td>89.65</td>\n",
       "      <td>0</td>\n",
       "      <td>2.68</td>\n",
       "      <td>30.06</td>\n",
       "      <td>32.74</td>\n",
       "      <td>2012</td>\n",
       "      <td>NaN</td>\n",
       "      <td>San Francisco</td>\n",
       "      <td>NaN</td>\n",
       "    </tr>\n",
       "    <tr>\n",
       "      <th>72920</th>\n",
       "      <td>72921</td>\n",
       "      <td>Charles Williams</td>\n",
       "      <td>Junior Clerk</td>\n",
       "      <td>-30.58</td>\n",
       "      <td>45.87</td>\n",
       "      <td>0</td>\n",
       "      <td>1.36</td>\n",
       "      <td>15.29</td>\n",
       "      <td>16.65</td>\n",
       "      <td>2012</td>\n",
       "      <td>NaN</td>\n",
       "      <td>San Francisco</td>\n",
       "      <td>NaN</td>\n",
       "    </tr>\n",
       "    <tr>\n",
       "      <th>72922</th>\n",
       "      <td>72923</td>\n",
       "      <td>John Draper</td>\n",
       "      <td>Clerk</td>\n",
       "      <td>-9.5</td>\n",
       "      <td>14.25</td>\n",
       "      <td>0</td>\n",
       "      <td>0.42</td>\n",
       "      <td>4.75</td>\n",
       "      <td>5.17</td>\n",
       "      <td>2012</td>\n",
       "      <td>NaN</td>\n",
       "      <td>San Francisco</td>\n",
       "      <td>NaN</td>\n",
       "    </tr>\n",
       "  </tbody>\n",
       "</table>\n",
       "</div>"
      ],
      "text/plain": [
       "          Id            EmployeeName      JobTitle BasePay OvertimePay  \\\n",
       "72832  72833          Irwin Sidharta  Junior Clerk -166.01      249.02   \n",
       "72865  72866            Robert Scott  Junior Clerk -121.63       182.7   \n",
       "72872  72873         Chung Huey Kung  Junior Clerk -109.22      163.83   \n",
       "72874  72875               Jordan Li  Junior Clerk  -106.6       159.9   \n",
       "72878  72879         Richard Jackson  Junior Clerk -101.88      153.08   \n",
       "72884  72885  DiMarco McGhee-Stewart  Junior Clerk  -93.14      139.97   \n",
       "72888  72889      Leopoldo Marasigan  Junior Clerk  -87.38      131.06   \n",
       "72894  72895          Douglas Avalos  Junior Clerk  -75.67      113.76   \n",
       "72908  72909         Norma Rodriguez  Junior Clerk  -59.59       89.65   \n",
       "72920  72921        Charles Williams  Junior Clerk  -30.58       45.87   \n",
       "72922  72923             John Draper         Clerk    -9.5       14.25   \n",
       "\n",
       "      OtherPay Benefits  TotalPay  TotalPayBenefits  Year  Notes  \\\n",
       "72832        0     6.56     83.01             89.57  2012    NaN   \n",
       "72865        0     5.44     61.07             66.51  2012    NaN   \n",
       "72872        0     4.32     54.61             58.93  2012    NaN   \n",
       "72874        0     4.66     53.30             57.96  2012    NaN   \n",
       "72878        0     4.55     51.20             55.75  2012    NaN   \n",
       "72884        0     4.17     46.83             51.00  2012    NaN   \n",
       "72888        0     3.89     43.68             47.57  2012    NaN   \n",
       "72894        0     3.39     38.09             41.48  2012    NaN   \n",
       "72908        0     2.68     30.06             32.74  2012    NaN   \n",
       "72920        0     1.36     15.29             16.65  2012    NaN   \n",
       "72922        0     0.42      4.75              5.17  2012    NaN   \n",
       "\n",
       "              Agency Status  \n",
       "72832  San Francisco    NaN  \n",
       "72865  San Francisco    NaN  \n",
       "72872  San Francisco    NaN  \n",
       "72874  San Francisco    NaN  \n",
       "72878  San Francisco    NaN  \n",
       "72884  San Francisco    NaN  \n",
       "72888  San Francisco    NaN  \n",
       "72894  San Francisco    NaN  \n",
       "72908  San Francisco    NaN  \n",
       "72920  San Francisco    NaN  \n",
       "72922  San Francisco    NaN  "
      ]
     },
     "execution_count": 5,
     "metadata": {},
     "output_type": "execute_result"
    }
   ],
   "source": [
    "sfdf[sfdf['BasePay'] < 0]"
   ]
  },
  {
   "cell_type": "code",
   "execution_count": 6,
   "metadata": {
    "collapsed": false
   },
   "outputs": [
    {
     "data": {
      "text/plain": [
       "array([2011, 2012, 2013, 2014], dtype=int64)"
      ]
     },
     "execution_count": 6,
     "metadata": {},
     "output_type": "execute_result"
    }
   ],
   "source": [
    "sfdf['Year'].unique()"
   ]
  },
  {
   "cell_type": "code",
   "execution_count": 7,
   "metadata": {
    "collapsed": false
   },
   "outputs": [
    {
     "data": {
      "text/plain": [
       "array(['GENERAL MANAGER-METROPOLITAN TRANSIT AUTHORITY',\n",
       "       'CAPTAIN III (POLICE DEPARTMENT)',\n",
       "       'WIRE ROPE CABLE MAINTENANCE MECHANIC', ...,\n",
       "       'Forensic Toxicologist Supervis', 'Conversion', 'Cashier 3'], dtype=object)"
      ]
     },
     "execution_count": 7,
     "metadata": {},
     "output_type": "execute_result"
    }
   ],
   "source": [
    "sfdf['JobTitle'].unique()"
   ]
  },
  {
   "cell_type": "code",
   "execution_count": 3,
   "metadata": {
    "collapsed": false
   },
   "outputs": [
    {
     "data": {
      "text/plain": [
       "Int64Index([148646, 148650, 148651, 148652], dtype='int64')"
      ]
     },
     "execution_count": 3,
     "metadata": {},
     "output_type": "execute_result"
    }
   ],
   "source": [
    "sfdf[sfdf['JobTitle'] == 'Not provided'].index"
   ]
  },
  {
   "cell_type": "code",
   "execution_count": 4,
   "metadata": {
    "collapsed": false
   },
   "outputs": [],
   "source": [
    "sfdf = sfdf.drop(sfdf[sfdf['JobTitle'] == 'Not provided'].index)"
   ]
  },
  {
   "cell_type": "code",
   "execution_count": 6,
   "metadata": {
    "collapsed": false
   },
   "outputs": [
    {
     "name": "stdout",
     "output_type": "stream",
     "text": [
      "<class 'pandas.core.frame.DataFrame'>\n",
      "Int64Index: 148650 entries, 0 to 148653\n",
      "Data columns (total 13 columns):\n",
      "Id                  148650 non-null int64\n",
      "EmployeeName        148650 non-null object\n",
      "JobTitle            148650 non-null object\n",
      "BasePay             148045 non-null object\n",
      "OvertimePay         148650 non-null object\n",
      "OtherPay            148650 non-null object\n",
      "Benefits            112491 non-null object\n",
      "TotalPay            148650 non-null float64\n",
      "TotalPayBenefits    148650 non-null float64\n",
      "Year                148650 non-null int64\n",
      "Notes               0 non-null float64\n",
      "Agency              148650 non-null object\n",
      "Status              38119 non-null object\n",
      "dtypes: float64(3), int64(2), object(8)\n",
      "memory usage: 15.9+ MB\n"
     ]
    }
   ],
   "source": [
    "sfdf.info()"
   ]
  },
  {
   "cell_type": "code",
   "execution_count": 7,
   "metadata": {
    "collapsed": false
   },
   "outputs": [
    {
     "data": {
      "text/plain": [
       "array(['GENERAL MANAGER-METROPOLITAN TRANSIT AUTHORITY',\n",
       "       'CAPTAIN III (POLICE DEPARTMENT)',\n",
       "       'WIRE ROPE CABLE MAINTENANCE MECHANIC', ...,\n",
       "       'Forensic Toxicologist Supervis', 'Conversion', 'Cashier 3'], dtype=object)"
      ]
     },
     "execution_count": 7,
     "metadata": {},
     "output_type": "execute_result"
    }
   ],
   "source": [
    "sfdf['JobTitle'].unique()"
   ]
  },
  {
   "cell_type": "code",
   "execution_count": 8,
   "metadata": {
    "collapsed": false
   },
   "outputs": [
    {
     "name": "stderr",
     "output_type": "stream",
     "text": [
      ":0: FutureWarning: IPython widgets are experimental and may change in the future.\n"
     ]
    }
   ],
   "source": [
    "import seaborn as sns"
   ]
  },
  {
   "cell_type": "code",
   "execution_count": 11,
   "metadata": {
    "collapsed": false
   },
   "outputs": [
    {
     "data": {
      "text/plain": [
       "<matplotlib.axes._subplots.AxesSubplot at 0x11d53d30>"
      ]
     },
     "execution_count": 11,
     "metadata": {},
     "output_type": "execute_result"
    },
    {
     "data": {
      "image/png": "[encoded data removed]",
      "text/plain": [
       "<matplotlib.figure.Figure at 0x11d53a20>"
      ]
     },
     "metadata": {},
     "output_type": "display_data"
    }
   ],
   "source": [
    "sfdf['JobTitle'].value_counts()[:20].plot(kind='barh')"
   ]
  },
  {
   "cell_type": "code",
   "execution_count": 12,
   "metadata": {
    "collapsed": false
   },
   "outputs": [
    {
     "data": {
      "text/plain": [
       "array([nan, 44430.12, 69810.19, ..., '0.16', '0.13', '1.24'], dtype=object)"
      ]
     },
     "execution_count": 12,
     "metadata": {},
     "output_type": "execute_result"
    }
   ],
   "source": [
    "sfdf['Benefits'].unique()"
   ]
  },
  {
   "cell_type": "code",
   "execution_count": 13,
   "metadata": {
    "collapsed": false
   },
   "outputs": [
    {
     "data": {
      "text/html": [
       "<div>\n",
       "<table border=\"1\" class=\"dataframe\">\n",
       "  <thead>\n",
       "    <tr style=\"text-align: right;\">\n",
       "      <th></th>\n",
       "      <th>Id</th>\n",
       "      <th>EmployeeName</th>\n",
       "      <th>JobTitle</th>\n",
       "      <th>BasePay</th>\n",
       "      <th>OvertimePay</th>\n",
       "      <th>OtherPay</th>\n",
       "      <th>Benefits</th>\n",
       "      <th>TotalPay</th>\n",
       "      <th>TotalPayBenefits</th>\n",
       "      <th>Year</th>\n",
       "      <th>Notes</th>\n",
       "      <th>Agency</th>\n",
       "      <th>Status</th>\n",
       "    </tr>\n",
       "  </thead>\n",
       "  <tbody>\n",
       "  </tbody>\n",
       "</table>\n",
       "</div>"
      ],
      "text/plain": [
       "Empty DataFrame\n",
       "Columns: [Id, EmployeeName, JobTitle, BasePay, OvertimePay, OtherPay, Benefits, TotalPay, TotalPayBenefits, Year, Notes, Agency, Status]\n",
       "Index: []"
      ]
     },
     "execution_count": 13,
     "metadata": {},
     "output_type": "execute_result"
    }
   ],
   "source": [
    "sfdf[sfdf['Benefits'] == '']"
   ]
  },
  {
   "cell_type": "code",
   "execution_count": 42,
   "metadata": {
    "collapsed": false
   },
   "outputs": [
    {
     "data": {
      "text/plain": [
       "SENIOR GENERAL UTILITY MECHANIC        1\n",
       "SENIOR OFFSET MACHINE OPERATOR         1\n",
       "DIRECTOR, JUVENILE HALL                1\n",
       "SHELTER OFFICE ASSISTANT SUPERVISOR    1\n",
       "Sheriff                                1\n",
       "dtype: int64"
      ]
     },
     "execution_count": 42,
     "metadata": {},
     "output_type": "execute_result"
    }
   ],
   "source": [
    "# Observing the Least in count job title\n",
    "sfdf['JobTitle'].value_counts().tail(5)"
   ]
  },
  {
   "cell_type": "code",
   "execution_count": 43,
   "metadata": {
    "collapsed": false
   },
   "outputs": [
    {
     "name": "stderr",
     "output_type": "stream",
     "text": [
      "C:\\Users\\mtare\\AppData\\Local\\Continuum\\Anaconda\\lib\\site-packages\\pandas\\tools\\plotting.py:2633: FutureWarning: \n",
      "The default value for 'return_type' will change to 'axes' in a future release.\n",
      " To use the future behavior now, set return_type='axes'.\n",
      " To keep the previous behavior and silence this warning, set return_type='dict'.\n",
      "  warnings.warn(msg, FutureWarning)\n"
     ]
    },
    {
     "data": {
      "text/plain": [
       "{'boxes': [<matplotlib.lines.Line2D at 0x30b74f98>],\n",
       " 'caps': [<matplotlib.lines.Line2D at 0x30c1c7b8>,\n",
       "  <matplotlib.lines.Line2D at 0x30c5a5f8>],\n",
       " 'fliers': [<matplotlib.lines.Line2D at 0x30ca8080>],\n",
       " 'means': [],\n",
       " 'medians': [<matplotlib.lines.Line2D at 0x30c79e48>],\n",
       " 'whiskers': [<matplotlib.lines.Line2D at 0x30b834e0>,\n",
       "  <matplotlib.lines.Line2D at 0x30baff28>]}"
      ]
     },
     "execution_count": 43,
     "metadata": {},
     "output_type": "execute_result"
    },
    {
     "data": {
      "image/png": "[encoded data removed]",
      "text/plain": [
       "<matplotlib.figure.Figure at 0x304e5128>"
      ]
     },
     "metadata": {},
     "output_type": "display_data"
    }
   ],
   "source": [
    "sfdf.boxplot(column='TotalPay')"
   ]
  },
  {
   "cell_type": "code",
   "execution_count": 48,
   "metadata": {
    "collapsed": false
   },
   "outputs": [
    {
     "data": {
      "text/plain": [
       "<matplotlib.axes._subplots.AxesSubplot at 0x31aa0e48>"
      ]
     },
     "execution_count": 48,
     "metadata": {},
     "output_type": "execute_result"
    },
    {
     "data": {
      "image/png": "[encoded data removed]",
      "text/plain": [
       "<matplotlib.figure.Figure at 0x31cf7a20>"
      ]
     },
     "metadata": {},
     "output_type": "display_data"
    }
   ],
   "source": [
    "sfdf.boxplot(column='TotalPay',by='Year',figsize=(10,6))"
   ]
  },
  {
   "cell_type": "code",
   "execution_count": 49,
   "metadata": {
    "collapsed": false
   },
   "outputs": [
    {
     "data": {
      "text/html": [
       "<div>\n",
       "<table border=\"1\" class=\"dataframe\">\n",
       "  <thead>\n",
       "    <tr style=\"text-align: right;\">\n",
       "      <th></th>\n",
       "      <th>Id</th>\n",
       "      <th>TotalPay</th>\n",
       "      <th>TotalPayBenefits</th>\n",
       "      <th>Year</th>\n",
       "      <th>Notes</th>\n",
       "    </tr>\n",
       "  </thead>\n",
       "  <tbody>\n",
       "    <tr>\n",
       "      <th>count</th>\n",
       "      <td>148650.000000</td>\n",
       "      <td>148650.000000</td>\n",
       "      <td>148650.000000</td>\n",
       "      <td>148650.000000</td>\n",
       "      <td>0</td>\n",
       "    </tr>\n",
       "    <tr>\n",
       "      <th>mean</th>\n",
       "      <td>74325.500047</td>\n",
       "      <td>74770.333901</td>\n",
       "      <td>93695.075969</td>\n",
       "      <td>2012.522603</td>\n",
       "      <td>NaN</td>\n",
       "    </tr>\n",
       "    <tr>\n",
       "      <th>std</th>\n",
       "      <td>42911.703176</td>\n",
       "      <td>50516.196009</td>\n",
       "      <td>62792.497391</td>\n",
       "      <td>1.117526</td>\n",
       "      <td>NaN</td>\n",
       "    </tr>\n",
       "    <tr>\n",
       "      <th>min</th>\n",
       "      <td>1.000000</td>\n",
       "      <td>-618.130000</td>\n",
       "      <td>-618.130000</td>\n",
       "      <td>2011.000000</td>\n",
       "      <td>NaN</td>\n",
       "    </tr>\n",
       "    <tr>\n",
       "      <th>25%</th>\n",
       "      <td>37163.250000</td>\n",
       "      <td>36169.955000</td>\n",
       "      <td>44073.337500</td>\n",
       "      <td>2012.000000</td>\n",
       "      <td>NaN</td>\n",
       "    </tr>\n",
       "    <tr>\n",
       "      <th>50%</th>\n",
       "      <td>74325.500000</td>\n",
       "      <td>71427.240000</td>\n",
       "      <td>92406.020000</td>\n",
       "      <td>2013.000000</td>\n",
       "      <td>NaN</td>\n",
       "    </tr>\n",
       "    <tr>\n",
       "      <th>75%</th>\n",
       "      <td>111487.750000</td>\n",
       "      <td>105842.960000</td>\n",
       "      <td>132877.992500</td>\n",
       "      <td>2014.000000</td>\n",
       "      <td>NaN</td>\n",
       "    </tr>\n",
       "    <tr>\n",
       "      <th>max</th>\n",
       "      <td>148654.000000</td>\n",
       "      <td>567595.430000</td>\n",
       "      <td>567595.430000</td>\n",
       "      <td>2014.000000</td>\n",
       "      <td>NaN</td>\n",
       "    </tr>\n",
       "  </tbody>\n",
       "</table>\n",
       "</div>"
      ],
      "text/plain": [
       "                  Id       TotalPay  TotalPayBenefits           Year  Notes\n",
       "count  148650.000000  148650.000000     148650.000000  148650.000000      0\n",
       "mean    74325.500047   74770.333901      93695.075969    2012.522603    NaN\n",
       "std     42911.703176   50516.196009      62792.497391       1.117526    NaN\n",
       "min         1.000000    -618.130000       -618.130000    2011.000000    NaN\n",
       "25%     37163.250000   36169.955000      44073.337500    2012.000000    NaN\n",
       "50%     74325.500000   71427.240000      92406.020000    2013.000000    NaN\n",
       "75%    111487.750000  105842.960000     132877.992500    2014.000000    NaN\n",
       "max    148654.000000  567595.430000     567595.430000    2014.000000    NaN"
      ]
     },
     "execution_count": 49,
     "metadata": {},
     "output_type": "execute_result"
    }
   ],
   "source": [
    "sfdf.describe()"
   ]
  },
  {
   "cell_type": "code",
   "execution_count": 5,
   "metadata": {
    "collapsed": false
   },
   "outputs": [],
   "source": [
    "sfdf['BasePay']=sfdf['BasePay'].astype('float64')"
   ]
  },
  {
   "cell_type": "code",
   "execution_count": 6,
   "metadata": {
    "collapsed": false
   },
   "outputs": [
    {
     "data": {
      "text/plain": [
       "Index([u'Id', u'EmployeeName', u'JobTitle', u'BasePay', u'OvertimePay',\n",
       "       u'OtherPay', u'Benefits', u'TotalPay', u'TotalPayBenefits', u'Year',\n",
       "       u'Notes', u'Agency', u'Status'],\n",
       "      dtype='object')"
      ]
     },
     "execution_count": 6,
     "metadata": {},
     "output_type": "execute_result"
    }
   ],
   "source": [
    "sfdf.columns"
   ]
  },
  {
   "cell_type": "code",
   "execution_count": 6,
   "metadata": {
    "collapsed": true
   },
   "outputs": [],
   "source": [
    "var = ['OvertimePay','OtherPay','Benefits']\n",
    "for i in var:\n",
    "    sfdf[i] = sfdf[i].astype('float64')"
   ]
  },
  {
   "cell_type": "code",
   "execution_count": 7,
   "metadata": {
    "collapsed": false
   },
   "outputs": [
    {
     "name": "stdout",
     "output_type": "stream",
     "text": [
      "<class 'pandas.core.frame.DataFrame'>\n",
      "Int64Index: 148650 entries, 0 to 148653\n",
      "Data columns (total 13 columns):\n",
      "Id                  148650 non-null int64\n",
      "EmployeeName        148650 non-null object\n",
      "JobTitle            148650 non-null object\n",
      "BasePay             148045 non-null float64\n",
      "OvertimePay         148650 non-null float64\n",
      "OtherPay            148650 non-null float64\n",
      "Benefits            112491 non-null float64\n",
      "TotalPay            148650 non-null float64\n",
      "TotalPayBenefits    148650 non-null float64\n",
      "Year                148650 non-null int64\n",
      "Notes               0 non-null float64\n",
      "Agency              148650 non-null object\n",
      "Status              38119 non-null object\n",
      "dtypes: float64(7), int64(2), object(4)\n",
      "memory usage: 15.9+ MB\n"
     ]
    }
   ],
   "source": [
    "sfdf.info()"
   ]
  },
  {
   "cell_type": "code",
   "execution_count": 12,
   "metadata": {
    "collapsed": false
   },
   "outputs": [
    {
     "data": {
      "text/html": [
       "<div>\n",
       "<table border=\"1\" class=\"dataframe\">\n",
       "  <thead>\n",
       "    <tr style=\"text-align: right;\">\n",
       "      <th></th>\n",
       "      <th>Id</th>\n",
       "      <th>BasePay</th>\n",
       "      <th>OvertimePay</th>\n",
       "      <th>OtherPay</th>\n",
       "      <th>Benefits</th>\n",
       "      <th>TotalPay</th>\n",
       "      <th>TotalPayBenefits</th>\n",
       "      <th>Year</th>\n",
       "      <th>Notes</th>\n",
       "    </tr>\n",
       "  </thead>\n",
       "  <tbody>\n",
       "    <tr>\n",
       "      <th>count</th>\n",
       "      <td>148650.000000</td>\n",
       "      <td>148045.000000</td>\n",
       "      <td>148650.000000</td>\n",
       "      <td>148650.000000</td>\n",
       "      <td>112491.000000</td>\n",
       "      <td>148650.000000</td>\n",
       "      <td>148650.000000</td>\n",
       "      <td>148650.000000</td>\n",
       "      <td>0</td>\n",
       "    </tr>\n",
       "    <tr>\n",
       "      <th>mean</th>\n",
       "      <td>74325.500047</td>\n",
       "      <td>66325.448841</td>\n",
       "      <td>5066.059886</td>\n",
       "      <td>3648.767297</td>\n",
       "      <td>25007.893151</td>\n",
       "      <td>74770.333901</td>\n",
       "      <td>93695.075969</td>\n",
       "      <td>2012.522603</td>\n",
       "      <td>NaN</td>\n",
       "    </tr>\n",
       "    <tr>\n",
       "      <th>std</th>\n",
       "      <td>42911.703176</td>\n",
       "      <td>42764.635495</td>\n",
       "      <td>11454.380559</td>\n",
       "      <td>8056.601866</td>\n",
       "      <td>15402.215858</td>\n",
       "      <td>50516.196009</td>\n",
       "      <td>62792.497391</td>\n",
       "      <td>1.117526</td>\n",
       "      <td>NaN</td>\n",
       "    </tr>\n",
       "    <tr>\n",
       "      <th>min</th>\n",
       "      <td>1.000000</td>\n",
       "      <td>-166.010000</td>\n",
       "      <td>-0.010000</td>\n",
       "      <td>-7058.590000</td>\n",
       "      <td>-33.890000</td>\n",
       "      <td>-618.130000</td>\n",
       "      <td>-618.130000</td>\n",
       "      <td>2011.000000</td>\n",
       "      <td>NaN</td>\n",
       "    </tr>\n",
       "    <tr>\n",
       "      <th>25%</th>\n",
       "      <td>37163.250000</td>\n",
       "      <td>33588.200000</td>\n",
       "      <td>0.000000</td>\n",
       "      <td>0.000000</td>\n",
       "      <td>11535.395000</td>\n",
       "      <td>36169.955000</td>\n",
       "      <td>44073.337500</td>\n",
       "      <td>2012.000000</td>\n",
       "      <td>NaN</td>\n",
       "    </tr>\n",
       "    <tr>\n",
       "      <th>50%</th>\n",
       "      <td>74325.500000</td>\n",
       "      <td>65007.450000</td>\n",
       "      <td>0.000000</td>\n",
       "      <td>811.270000</td>\n",
       "      <td>28628.620000</td>\n",
       "      <td>71427.240000</td>\n",
       "      <td>92406.020000</td>\n",
       "      <td>2013.000000</td>\n",
       "      <td>NaN</td>\n",
       "    </tr>\n",
       "    <tr>\n",
       "      <th>75%</th>\n",
       "      <td>111487.750000</td>\n",
       "      <td>94691.050000</td>\n",
       "      <td>4658.175000</td>\n",
       "      <td>4236.065000</td>\n",
       "      <td>35566.855000</td>\n",
       "      <td>105842.960000</td>\n",
       "      <td>132877.992500</td>\n",
       "      <td>2014.000000</td>\n",
       "      <td>NaN</td>\n",
       "    </tr>\n",
       "    <tr>\n",
       "      <th>max</th>\n",
       "      <td>148654.000000</td>\n",
       "      <td>319275.010000</td>\n",
       "      <td>245131.880000</td>\n",
       "      <td>400184.250000</td>\n",
       "      <td>96570.660000</td>\n",
       "      <td>567595.430000</td>\n",
       "      <td>567595.430000</td>\n",
       "      <td>2014.000000</td>\n",
       "      <td>NaN</td>\n",
       "    </tr>\n",
       "  </tbody>\n",
       "</table>\n",
       "</div>"
      ],
      "text/plain": [
       "                  Id        BasePay    OvertimePay       OtherPay  \\\n",
       "count  148650.000000  148045.000000  148650.000000  148650.000000   \n",
       "mean    74325.500047   66325.448841    5066.059886    3648.767297   \n",
       "std     42911.703176   42764.635495   11454.380559    8056.601866   \n",
       "min         1.000000    -166.010000      -0.010000   -7058.590000   \n",
       "25%     37163.250000   33588.200000       0.000000       0.000000   \n",
       "50%     74325.500000   65007.450000       0.000000     811.270000   \n",
       "75%    111487.750000   94691.050000    4658.175000    4236.065000   \n",
       "max    148654.000000  319275.010000  245131.880000  400184.250000   \n",
       "\n",
       "            Benefits       TotalPay  TotalPayBenefits           Year  Notes  \n",
       "count  112491.000000  148650.000000     148650.000000  148650.000000      0  \n",
       "mean    25007.893151   74770.333901      93695.075969    2012.522603    NaN  \n",
       "std     15402.215858   50516.196009      62792.497391       1.117526    NaN  \n",
       "min       -33.890000    -618.130000       -618.130000    2011.000000    NaN  \n",
       "25%     11535.395000   36169.955000      44073.337500    2012.000000    NaN  \n",
       "50%     28628.620000   71427.240000      92406.020000    2013.000000    NaN  \n",
       "75%     35566.855000  105842.960000     132877.992500    2014.000000    NaN  \n",
       "max     96570.660000  567595.430000     567595.430000    2014.000000    NaN  "
      ]
     },
     "execution_count": 12,
     "metadata": {},
     "output_type": "execute_result"
    }
   ],
   "source": [
    "sfdf.describe()"
   ]
  },
  {
   "cell_type": "code",
   "execution_count": 60,
   "metadata": {
    "collapsed": false
   },
   "outputs": [
    {
     "data": {
      "text/plain": [
       "{'boxes': [<matplotlib.lines.Line2D at 0x20a19f28>,\n",
       "  <matplotlib.lines.Line2D at 0x20b372b0>],\n",
       " 'caps': [<matplotlib.lines.Line2D at 0x20a23c50>,\n",
       "  <matplotlib.lines.Line2D at 0x20a2c208>,\n",
       "  <matplotlib.lines.Line2D at 0x20b42320>,\n",
       "  <matplotlib.lines.Line2D at 0x20b42898>],\n",
       " 'fliers': [<matplotlib.lines.Line2D at 0x20a2ccf8>,\n",
       "  <matplotlib.lines.Line2D at 0x20b4d3c8>],\n",
       " 'means': [],\n",
       " 'medians': [<matplotlib.lines.Line2D at 0x20a2c780>,\n",
       "  <matplotlib.lines.Line2D at 0x20b42e10>],\n",
       " 'whiskers': [<matplotlib.lines.Line2D at 0x20a230f0>,\n",
       "  <matplotlib.lines.Line2D at 0x20a236d8>,\n",
       "  <matplotlib.lines.Line2D at 0x20b377f0>,\n",
       "  <matplotlib.lines.Line2D at 0x20b37d68>]}"
      ]
     },
     "execution_count": 60,
     "metadata": {},
     "output_type": "execute_result"
    },
    {
     "data": {
      "image/png": "[encoded data removed]",
      "text/plain": [
       "<matplotlib.figure.Figure at 0x20aae1d0>"
      ]
     },
     "metadata": {},
     "output_type": "display_data"
    }
   ],
   "source": [
    "sfdf.boxplot(column=['BasePay','OvertimePay'])"
   ]
  },
  {
   "cell_type": "code",
   "execution_count": 13,
   "metadata": {
    "collapsed": false
   },
   "outputs": [
    {
     "name": "stderr",
     "output_type": "stream",
     "text": [
      "C:\\Users\\mtare\\AppData\\Local\\Continuum\\Anaconda\\lib\\site-packages\\pandas\\tools\\plotting.py:2633: FutureWarning: \n",
      "The default value for 'return_type' will change to 'axes' in a future release.\n",
      " To use the future behavior now, set return_type='axes'.\n",
      " To keep the previous behavior and silence this warning, set return_type='dict'.\n",
      "  warnings.warn(msg, FutureWarning)\n"
     ]
    },
    {
     "data": {
      "text/plain": [
       "{'boxes': [<matplotlib.lines.Line2D at 0x10e0f550>],\n",
       " 'caps': [<matplotlib.lines.Line2D at 0x10ca8278>,\n",
       "  <matplotlib.lines.Line2D at 0x10ca87f0>],\n",
       " 'fliers': [<matplotlib.lines.Line2D at 0x10cb5320>],\n",
       " 'means': [],\n",
       " 'medians': [<matplotlib.lines.Line2D at 0x10ca8d68>],\n",
       " 'whiskers': [<matplotlib.lines.Line2D at 0x10e0f7b8>,\n",
       "  <matplotlib.lines.Line2D at 0x10e0f358>]}"
      ]
     },
     "execution_count": 13,
     "metadata": {},
     "output_type": "execute_result"
    },
    {
     "data": {
      "image/png": "[encoded data removed]",
      "text/plain": [
       "<matplotlib.figure.Figure at 0x10bb75c0>"
      ]
     },
     "metadata": {},
     "output_type": "display_data"
    }
   ],
   "source": [
    "sfdf.boxplot('OvertimePay')"
   ]
  },
  {
   "cell_type": "code",
   "execution_count": 14,
   "metadata": {
    "collapsed": false
   },
   "outputs": [
    {
     "data": {
      "text/plain": [
       "5066.059886444622"
      ]
     },
     "execution_count": 14,
     "metadata": {},
     "output_type": "execute_result"
    }
   ],
   "source": [
    "sfdf['OvertimePay'].mean()"
   ]
  },
  {
   "cell_type": "code",
   "execution_count": 63,
   "metadata": {
    "collapsed": false
   },
   "outputs": [
    {
     "data": {
      "text/plain": [
       "0    0\n",
       "dtype: float64"
      ]
     },
     "execution_count": 63,
     "metadata": {},
     "output_type": "execute_result"
    }
   ],
   "source": [
    "sfdf['OvertimePay'].mode()"
   ]
  },
  {
   "cell_type": "code",
   "execution_count": 64,
   "metadata": {
    "collapsed": false
   },
   "outputs": [
    {
     "data": {
      "text/plain": [
       "0.0"
      ]
     },
     "execution_count": 64,
     "metadata": {},
     "output_type": "execute_result"
    }
   ],
   "source": [
    "sfdf['OvertimePay'].median()"
   ]
  },
  {
   "cell_type": "code",
   "execution_count": 66,
   "metadata": {
    "collapsed": false
   },
   "outputs": [
    {
     "data": {
      "text/plain": [
       "0.00        77321\n",
       "681.23         41\n",
       "10.68          41\n",
       "152.13         38\n",
       "1314.78        27\n",
       "167.18         25\n",
       "278.96         25\n",
       "997.68         20\n",
       "76.32          19\n",
       "1099.08        14\n",
       "752.85         14\n",
       "276.94         14\n",
       "288.34         14\n",
       "318.48         14\n",
       "924.30         14\n",
       "223.17         14\n",
       "1258.02        13\n",
       "221.55         13\n",
       "1690.55        12\n",
       "1016.01        12\n",
       "251.70         12\n",
       "1743.71        12\n",
       "1536.25        12\n",
       "1540.50        12\n",
       "283.86         11\n",
       "503.40         11\n",
       "1662.80        11\n",
       "3081.00        11\n",
       "1085.78        11\n",
       "1033.06        11\n",
       "            ...  \n",
       "306.80          1\n",
       "3268.02         1\n",
       "16035.61        1\n",
       "6524.51         1\n",
       "32974.55        1\n",
       "3435.30         1\n",
       "40353.19        1\n",
       "2991.11         1\n",
       "349.54          1\n",
       "31287.96        1\n",
       "3140.02         1\n",
       "13160.07        1\n",
       "21179.59        1\n",
       "3306.21         1\n",
       "7256.10         1\n",
       "10078.63        1\n",
       "5746.45         1\n",
       "4259.64         1\n",
       "2509.29         1\n",
       "11226.73        1\n",
       "14413.36        1\n",
       "3546.22         1\n",
       "1637.24         1\n",
       "39900.72        1\n",
       "12967.30        1\n",
       "3055.57         1\n",
       "7118.80         1\n",
       "15308.16        1\n",
       "1242.45         1\n",
       "5338.27         1\n",
       "dtype: int64"
      ]
     },
     "execution_count": 66,
     "metadata": {},
     "output_type": "execute_result"
    }
   ],
   "source": [
    "sfdf['OvertimePay'].value_counts()"
   ]
  },
  {
   "cell_type": "code",
   "execution_count": 15,
   "metadata": {
    "collapsed": false
   },
   "outputs": [
    {
     "data": {
      "text/plain": [
       "<matplotlib.axes._subplots.AxesSubplot at 0x10cb5d68>"
      ]
     },
     "execution_count": 15,
     "metadata": {},
     "output_type": "execute_result"
    },
    {
     "data": {
      "image/png": "[encoded data removed]",
      "text/plain": [
       "<matplotlib.figure.Figure at 0xc50a7b8>"
      ]
     },
     "metadata": {},
     "output_type": "display_data"
    }
   ],
   "source": [
    "sfdf.boxplot(column='BasePay',by='Year')"
   ]
  },
  {
   "cell_type": "code",
   "execution_count": 72,
   "metadata": {
    "collapsed": false
   },
   "outputs": [
    {
     "data": {
      "text/plain": [
       "array([[<matplotlib.axes._subplots.AxesSubplot object at 0x0000000039407DD8>,\n",
       "        <matplotlib.axes._subplots.AxesSubplot object at 0x0000000039A07BA8>]], dtype=object)"
      ]
     },
     "execution_count": 72,
     "metadata": {},
     "output_type": "execute_result"
    },
    {
     "data": {
      "image/png": "[encoded data removed]",
      "text/plain": [
       "<matplotlib.figure.Figure at 0x39743400>"
      ]
     },
     "metadata": {},
     "output_type": "display_data"
    }
   ],
   "source": [
    "sfdf[['BasePay','TotalPay']].hist(figsize=(20,6))"
   ]
  },
  {
   "cell_type": "code",
   "execution_count": 13,
   "metadata": {
    "collapsed": false
   },
   "outputs": [
    {
     "data": {
      "text/plain": [
       "<matplotlib.axes._subplots.AxesSubplot at 0x21a70048>"
      ]
     },
     "execution_count": 13,
     "metadata": {},
     "output_type": "execute_result"
    },
    {
     "data": {
      "image/png": "[encoded data removed]",
      "text/plain": [
       "<matplotlib.figure.Figure at 0x21d477f0>"
      ]
     },
     "metadata": {},
     "output_type": "display_data"
    }
   ],
   "source": [
    "sfdf['TotalPay'].hist(bins=30)"
   ]
  },
  {
   "cell_type": "code",
   "execution_count": 8,
   "metadata": {
    "collapsed": false
   },
   "outputs": [],
   "source": [
    "from sqlalchemy.engine import create_engine\n",
    "engine = create_engine('sqlite:///E:\\Analytics Practice\\Data sets\\sf-salaries-release-2015-12-21-03-21-32\\output\\database.sqlite')"
   ]
  },
  {
   "cell_type": "code",
   "execution_count": 10,
   "metadata": {
    "collapsed": false
   },
   "outputs": [
    {
     "data": {
      "text/html": [
       "<div>\n",
       "<table border=\"1\" class=\"dataframe\">\n",
       "  <thead>\n",
       "    <tr style=\"text-align: right;\">\n",
       "      <th></th>\n",
       "      <th>Id</th>\n",
       "    </tr>\n",
       "  </thead>\n",
       "  <tbody>\n",
       "    <tr>\n",
       "      <th>0</th>\n",
       "      <td>1</td>\n",
       "    </tr>\n",
       "    <tr>\n",
       "      <th>1</th>\n",
       "      <td>2</td>\n",
       "    </tr>\n",
       "    <tr>\n",
       "      <th>2</th>\n",
       "      <td>3</td>\n",
       "    </tr>\n",
       "    <tr>\n",
       "      <th>3</th>\n",
       "      <td>4</td>\n",
       "    </tr>\n",
       "    <tr>\n",
       "      <th>4</th>\n",
       "      <td>5</td>\n",
       "    </tr>\n",
       "    <tr>\n",
       "      <th>5</th>\n",
       "      <td>6</td>\n",
       "    </tr>\n",
       "    <tr>\n",
       "      <th>6</th>\n",
       "      <td>7</td>\n",
       "    </tr>\n",
       "    <tr>\n",
       "      <th>7</th>\n",
       "      <td>8</td>\n",
       "    </tr>\n",
       "    <tr>\n",
       "      <th>8</th>\n",
       "      <td>9</td>\n",
       "    </tr>\n",
       "    <tr>\n",
       "      <th>9</th>\n",
       "      <td>10</td>\n",
       "    </tr>\n",
       "  </tbody>\n",
       "</table>\n",
       "</div>"
      ],
      "text/plain": [
       "   Id\n",
       "0   1\n",
       "1   2\n",
       "2   3\n",
       "3   4\n",
       "4   5\n",
       "5   6\n",
       "6   7\n",
       "7   8\n",
       "8   9\n",
       "9  10"
      ]
     },
     "execution_count": 10,
     "metadata": {},
     "output_type": "execute_result"
    }
   ],
   "source": [
    "sfdf_test = pd.read_sql(\"\"\" select Id from Salaries;\"\"\",engine)\n",
    "sfdf_test.head(10)"
   ]
  },
  {
   "cell_type": "code",
   "execution_count": 9,
   "metadata": {
    "collapsed": false
   },
   "outputs": [],
   "source": [
    "sfdf_byJob = pd.read_sql(\"\"\"\n",
    "select  Id,\n",
    "case when jobtitle like '%fire%' then 'Fire'\n",
    "when jobtitle like '%police%' then 'Police'\n",
    "when jobtitle like '%sherif%' then 'Police'\n",
    "when jobtitle like '%probation%' then 'Police'\n",
    "when jobtitle like '%Sergeant%' then 'Police'\n",
    "when jobtitle like '%MTA%' then 'Transit'\n",
    "when jobtitle like '%transit%' then 'Transit'\n",
    "when jobtitle like '%anesth%' then 'Medical'\n",
    "when jobtitle like '%medical%' then 'Medical'\n",
    "when jobtitle like '%nurs%' then 'Medical'\n",
    "when jobtitle like '%health%' then 'Medical'\n",
    "when jobtitle like '%physician%' then 'Medical'\n",
    "when jobtitle like '%Orthopedic%' then 'Medical'\n",
    "when jobtitle like '%health%' then 'Medical'\n",
    "when jobtitle like '%pharm%' then 'Medical'\n",
    "when jobtitle like '%airport%' then 'Airport'\n",
    "when jobtitle like '%animal%' then 'Animal'\n",
    "when jobtitle like '%architect%' then 'Architectural'\n",
    "when jobtitle like '%court%' then 'Court'\n",
    "when jobtitle like '%legal%' then 'Court'\n",
    "when jobtitle like '%MAYOR%' then 'Mayor'\n",
    "when jobtitle like '%librar%' then 'Library'\n",
    "when jobtitle like '%parking%' then 'Parking'\n",
    "when jobtitle like '%Public Works%' then 'Public Works'\n",
    "when jobtitle like '%Attorney%' then 'Attorney'\n",
    "when jobtitle like '%MECHANIC%' then 'Automotive'\n",
    "when jobtitle like '%automotive%' then 'Automotive'\n",
    "when jobtitle like '%custodian%' then 'Custodian'\n",
    "when jobtitle like '%engineer%' then 'Engineering'\n",
    "when jobtitle like '%engr%' then 'Engineering'\n",
    "when jobtitle like '%account%' then 'Accounting'\n",
    "when jobtitle like '%Gardener%' then 'Gardening'\n",
    "when jobtitle like '%General Laborer%' then 'General Laborer'\n",
    "when jobtitle like '%food serv%' then 'Food Service'\n",
    "when jobtitle like '%clerk%' then 'Clerk'\n",
    "when jobtitle like '%porter%' then 'Porter'\n",
    "else null \n",
    "end as JobType\n",
    "from Salaries;\n",
    "\"\"\",engine)"
   ]
  },
  {
   "cell_type": "code",
   "execution_count": 10,
   "metadata": {
    "collapsed": false
   },
   "outputs": [],
   "source": [
    "sfdf2 = pd.merge(sfdf_byJob,sfdf,how='inner',on='Id')"
   ]
  },
  {
   "cell_type": "code",
   "execution_count": 13,
   "metadata": {
    "collapsed": false
   },
   "outputs": [
    {
     "data": {
      "text/html": [
       "<div>\n",
       "<table border=\"1\" class=\"dataframe\">\n",
       "  <thead>\n",
       "    <tr style=\"text-align: right;\">\n",
       "      <th></th>\n",
       "      <th>Id</th>\n",
       "      <th>JobType</th>\n",
       "      <th>EmployeeName</th>\n",
       "      <th>JobTitle</th>\n",
       "      <th>BasePay</th>\n",
       "      <th>OvertimePay</th>\n",
       "      <th>OtherPay</th>\n",
       "      <th>Benefits</th>\n",
       "      <th>TotalPay</th>\n",
       "      <th>TotalPayBenefits</th>\n",
       "      <th>Year</th>\n",
       "      <th>Notes</th>\n",
       "      <th>Agency</th>\n",
       "      <th>Status</th>\n",
       "    </tr>\n",
       "  </thead>\n",
       "  <tbody>\n",
       "    <tr>\n",
       "      <th>0</th>\n",
       "      <td>1</td>\n",
       "      <td>Transit</td>\n",
       "      <td>NATHANIEL FORD</td>\n",
       "      <td>GENERAL MANAGER-METROPOLITAN TRANSIT AUTHORITY</td>\n",
       "      <td>167411.18</td>\n",
       "      <td>0.00</td>\n",
       "      <td>400184.25</td>\n",
       "      <td>NaN</td>\n",
       "      <td>567595.43</td>\n",
       "      <td>567595.43</td>\n",
       "      <td>2011</td>\n",
       "      <td>NaN</td>\n",
       "      <td>San Francisco</td>\n",
       "      <td>NaN</td>\n",
       "    </tr>\n",
       "    <tr>\n",
       "      <th>1</th>\n",
       "      <td>2</td>\n",
       "      <td>Police</td>\n",
       "      <td>GARY JIMENEZ</td>\n",
       "      <td>CAPTAIN III (POLICE DEPARTMENT)</td>\n",
       "      <td>155966.02</td>\n",
       "      <td>245131.88</td>\n",
       "      <td>137811.38</td>\n",
       "      <td>NaN</td>\n",
       "      <td>538909.28</td>\n",
       "      <td>538909.28</td>\n",
       "      <td>2011</td>\n",
       "      <td>NaN</td>\n",
       "      <td>San Francisco</td>\n",
       "      <td>NaN</td>\n",
       "    </tr>\n",
       "    <tr>\n",
       "      <th>2</th>\n",
       "      <td>3</td>\n",
       "      <td>Police</td>\n",
       "      <td>ALBERT PARDINI</td>\n",
       "      <td>CAPTAIN III (POLICE DEPARTMENT)</td>\n",
       "      <td>212739.13</td>\n",
       "      <td>106088.18</td>\n",
       "      <td>16452.60</td>\n",
       "      <td>NaN</td>\n",
       "      <td>335279.91</td>\n",
       "      <td>335279.91</td>\n",
       "      <td>2011</td>\n",
       "      <td>NaN</td>\n",
       "      <td>San Francisco</td>\n",
       "      <td>NaN</td>\n",
       "    </tr>\n",
       "    <tr>\n",
       "      <th>3</th>\n",
       "      <td>4</td>\n",
       "      <td>Automotive</td>\n",
       "      <td>CHRISTOPHER CHONG</td>\n",
       "      <td>WIRE ROPE CABLE MAINTENANCE MECHANIC</td>\n",
       "      <td>77916.00</td>\n",
       "      <td>56120.71</td>\n",
       "      <td>198306.90</td>\n",
       "      <td>NaN</td>\n",
       "      <td>332343.61</td>\n",
       "      <td>332343.61</td>\n",
       "      <td>2011</td>\n",
       "      <td>NaN</td>\n",
       "      <td>San Francisco</td>\n",
       "      <td>NaN</td>\n",
       "    </tr>\n",
       "    <tr>\n",
       "      <th>4</th>\n",
       "      <td>5</td>\n",
       "      <td>Fire</td>\n",
       "      <td>PATRICK GARDNER</td>\n",
       "      <td>DEPUTY CHIEF OF DEPARTMENT,(FIRE DEPARTMENT)</td>\n",
       "      <td>134401.60</td>\n",
       "      <td>9737.00</td>\n",
       "      <td>182234.59</td>\n",
       "      <td>NaN</td>\n",
       "      <td>326373.19</td>\n",
       "      <td>326373.19</td>\n",
       "      <td>2011</td>\n",
       "      <td>NaN</td>\n",
       "      <td>San Francisco</td>\n",
       "      <td>NaN</td>\n",
       "    </tr>\n",
       "    <tr>\n",
       "      <th>5</th>\n",
       "      <td>6</td>\n",
       "      <td>None</td>\n",
       "      <td>DAVID SULLIVAN</td>\n",
       "      <td>ASSISTANT DEPUTY CHIEF II</td>\n",
       "      <td>118602.00</td>\n",
       "      <td>8601.00</td>\n",
       "      <td>189082.74</td>\n",
       "      <td>NaN</td>\n",
       "      <td>316285.74</td>\n",
       "      <td>316285.74</td>\n",
       "      <td>2011</td>\n",
       "      <td>NaN</td>\n",
       "      <td>San Francisco</td>\n",
       "      <td>NaN</td>\n",
       "    </tr>\n",
       "    <tr>\n",
       "      <th>6</th>\n",
       "      <td>7</td>\n",
       "      <td>Fire</td>\n",
       "      <td>ALSON LEE</td>\n",
       "      <td>BATTALION CHIEF, (FIRE DEPARTMENT)</td>\n",
       "      <td>92492.01</td>\n",
       "      <td>89062.90</td>\n",
       "      <td>134426.14</td>\n",
       "      <td>NaN</td>\n",
       "      <td>315981.05</td>\n",
       "      <td>315981.05</td>\n",
       "      <td>2011</td>\n",
       "      <td>NaN</td>\n",
       "      <td>San Francisco</td>\n",
       "      <td>NaN</td>\n",
       "    </tr>\n",
       "    <tr>\n",
       "      <th>7</th>\n",
       "      <td>8</td>\n",
       "      <td>None</td>\n",
       "      <td>DAVID KUSHNER</td>\n",
       "      <td>DEPUTY DIRECTOR OF INVESTMENTS</td>\n",
       "      <td>256576.96</td>\n",
       "      <td>0.00</td>\n",
       "      <td>51322.50</td>\n",
       "      <td>NaN</td>\n",
       "      <td>307899.46</td>\n",
       "      <td>307899.46</td>\n",
       "      <td>2011</td>\n",
       "      <td>NaN</td>\n",
       "      <td>San Francisco</td>\n",
       "      <td>NaN</td>\n",
       "    </tr>\n",
       "    <tr>\n",
       "      <th>8</th>\n",
       "      <td>9</td>\n",
       "      <td>Fire</td>\n",
       "      <td>MICHAEL MORRIS</td>\n",
       "      <td>BATTALION CHIEF, (FIRE DEPARTMENT)</td>\n",
       "      <td>176932.64</td>\n",
       "      <td>86362.68</td>\n",
       "      <td>40132.23</td>\n",
       "      <td>NaN</td>\n",
       "      <td>303427.55</td>\n",
       "      <td>303427.55</td>\n",
       "      <td>2011</td>\n",
       "      <td>NaN</td>\n",
       "      <td>San Francisco</td>\n",
       "      <td>NaN</td>\n",
       "    </tr>\n",
       "    <tr>\n",
       "      <th>9</th>\n",
       "      <td>10</td>\n",
       "      <td>Fire</td>\n",
       "      <td>JOANNE HAYES-WHITE</td>\n",
       "      <td>CHIEF OF DEPARTMENT, (FIRE DEPARTMENT)</td>\n",
       "      <td>285262.00</td>\n",
       "      <td>0.00</td>\n",
       "      <td>17115.73</td>\n",
       "      <td>NaN</td>\n",
       "      <td>302377.73</td>\n",
       "      <td>302377.73</td>\n",
       "      <td>2011</td>\n",
       "      <td>NaN</td>\n",
       "      <td>San Francisco</td>\n",
       "      <td>NaN</td>\n",
       "    </tr>\n",
       "  </tbody>\n",
       "</table>\n",
       "</div>"
      ],
      "text/plain": [
       "   Id     JobType        EmployeeName  \\\n",
       "0   1     Transit      NATHANIEL FORD   \n",
       "1   2      Police        GARY JIMENEZ   \n",
       "2   3      Police      ALBERT PARDINI   \n",
       "3   4  Automotive   CHRISTOPHER CHONG   \n",
       "4   5        Fire     PATRICK GARDNER   \n",
       "5   6        None      DAVID SULLIVAN   \n",
       "6   7        Fire           ALSON LEE   \n",
       "7   8        None       DAVID KUSHNER   \n",
       "8   9        Fire      MICHAEL MORRIS   \n",
       "9  10        Fire  JOANNE HAYES-WHITE   \n",
       "\n",
       "                                         JobTitle    BasePay  OvertimePay  \\\n",
       "0  GENERAL MANAGER-METROPOLITAN TRANSIT AUTHORITY  167411.18         0.00   \n",
       "1                 CAPTAIN III (POLICE DEPARTMENT)  155966.02    245131.88   \n",
       "2                 CAPTAIN III (POLICE DEPARTMENT)  212739.13    106088.18   \n",
       "3            WIRE ROPE CABLE MAINTENANCE MECHANIC   77916.00     56120.71   \n",
       "4    DEPUTY CHIEF OF DEPARTMENT,(FIRE DEPARTMENT)  134401.60      9737.00   \n",
       "5                       ASSISTANT DEPUTY CHIEF II  118602.00      8601.00   \n",
       "6              BATTALION CHIEF, (FIRE DEPARTMENT)   92492.01     89062.90   \n",
       "7                  DEPUTY DIRECTOR OF INVESTMENTS  256576.96         0.00   \n",
       "8              BATTALION CHIEF, (FIRE DEPARTMENT)  176932.64     86362.68   \n",
       "9          CHIEF OF DEPARTMENT, (FIRE DEPARTMENT)  285262.00         0.00   \n",
       "\n",
       "    OtherPay  Benefits   TotalPay  TotalPayBenefits  Year  Notes  \\\n",
       "0  400184.25       NaN  567595.43         567595.43  2011    NaN   \n",
       "1  137811.38       NaN  538909.28         538909.28  2011    NaN   \n",
       "2   16452.60       NaN  335279.91         335279.91  2011    NaN   \n",
       "3  198306.90       NaN  332343.61         332343.61  2011    NaN   \n",
       "4  182234.59       NaN  326373.19         326373.19  2011    NaN   \n",
       "5  189082.74       NaN  316285.74         316285.74  2011    NaN   \n",
       "6  134426.14       NaN  315981.05         315981.05  2011    NaN   \n",
       "7   51322.50       NaN  307899.46         307899.46  2011    NaN   \n",
       "8   40132.23       NaN  303427.55         303427.55  2011    NaN   \n",
       "9   17115.73       NaN  302377.73         302377.73  2011    NaN   \n",
       "\n",
       "          Agency Status  \n",
       "0  San Francisco    NaN  \n",
       "1  San Francisco    NaN  \n",
       "2  San Francisco    NaN  \n",
       "3  San Francisco    NaN  \n",
       "4  San Francisco    NaN  \n",
       "5  San Francisco    NaN  \n",
       "6  San Francisco    NaN  \n",
       "7  San Francisco    NaN  \n",
       "8  San Francisco    NaN  \n",
       "9  San Francisco    NaN  "
      ]
     },
     "execution_count": 13,
     "metadata": {},
     "output_type": "execute_result"
    }
   ],
   "source": [
    "sfdf2.head(10)"
   ]
  },
  {
   "cell_type": "code",
   "execution_count": 21,
   "metadata": {
    "collapsed": false
   },
   "outputs": [
    {
     "data": {
      "text/plain": [
       "array([u'Transit', u'Police', u'Automotive', u'Fire', None, u'Medical',\n",
       "       u'Mayor', u'Attorney', u'Engineering', u'Court', u'Architectural',\n",
       "       u'Library', u'Airport', u'Parking', u'Accounting', u'Clerk',\n",
       "       u'General Laborer', u'Gardening', u'Food Service', u'Porter',\n",
       "       u'Animal', u'Custodian', u'Public Works'], dtype=object)"
      ]
     },
     "execution_count": 21,
     "metadata": {},
     "output_type": "execute_result"
    }
   ],
   "source": [
    "sfdf2['JobType'].unique()"
   ]
  },
  {
   "cell_type": "code",
   "execution_count": 22,
   "metadata": {
    "collapsed": false
   },
   "outputs": [
    {
     "data": {
      "text/plain": [
       "701       179123.44\n",
       "721       178321.37\n",
       "731       178013.33\n",
       "792       176646.84\n",
       "806       175940.10\n",
       "819       175285.88\n",
       "822       175285.82\n",
       "824       175285.81\n",
       "826       175285.81\n",
       "828       175285.80\n",
       "837       174862.52\n",
       "838       174862.48\n",
       "952       170987.47\n",
       "968       170572.00\n",
       "969       170539.81\n",
       "971       170475.16\n",
       "1092      167622.02\n",
       "1105      167361.27\n",
       "1190      165256.67\n",
       "1383      163551.05\n",
       "1384      163541.04\n",
       "1389      163415.08\n",
       "1402      163181.81\n",
       "1446      162441.06\n",
       "1447      162441.03\n",
       "1448      162441.03\n",
       "1449      162441.01\n",
       "1450      162441.01\n",
       "1451      162441.00\n",
       "1640      158575.27\n",
       "            ...    \n",
       "142213     12648.00\n",
       "142446     16347.98\n",
       "142494     11898.00\n",
       "142505     12722.78\n",
       "142514     16166.68\n",
       "142554     11200.00\n",
       "142935     11304.65\n",
       "143005      9960.00\n",
       "143360     12454.05\n",
       "143612      8516.00\n",
       "143613      6875.20\n",
       "143678      8304.73\n",
       "143827      8860.40\n",
       "143924      7688.00\n",
       "145078      5104.50\n",
       "145153      6873.92\n",
       "145195      6702.20\n",
       "145203      6676.51\n",
       "145938         0.00\n",
       "146111      3042.00\n",
       "146113      4203.60\n",
       "146178      4089.39\n",
       "146213      3971.92\n",
       "146334      3679.00\n",
       "146379      2916.90\n",
       "146839      2678.25\n",
       "147196      1839.50\n",
       "147681      1095.13\n",
       "148379       279.43\n",
       "148432       219.12\n",
       "Name: TotalPay, dtype: float64"
      ]
     },
     "execution_count": 22,
     "metadata": {},
     "output_type": "execute_result"
    }
   ],
   "source": [
    "sfdf2[sfdf2['JobType'] == 'Engineering']['TotalPay']"
   ]
  },
  {
   "cell_type": "markdown",
   "metadata": {},
   "source": [
    "<h5>Observing the Distributions</h5>"
   ]
  },
  {
   "cell_type": "code",
   "execution_count": 25,
   "metadata": {
    "collapsed": false
   },
   "outputs": [
    {
     "data": {
      "text/plain": [
       "<matplotlib.axes._subplots.AxesSubplot at 0x14bc8f28>"
      ]
     },
     "execution_count": 25,
     "metadata": {},
     "output_type": "execute_result"
    },
    {
     "data": {
      "image/png": "[encoded data removed]",
      "text/plain": [
       "<matplotlib.figure.Figure at 0x10d37160>"
      ]
     },
     "metadata": {},
     "output_type": "display_data"
    }
   ],
   "source": [
    "sns.distplot(sfdf2[sfdf2['JobType'] == 'Engineering']['TotalPay'])"
   ]
  },
  {
   "cell_type": "code",
   "execution_count": null,
   "metadata": {
    "collapsed": true
   },
   "outputs": [],
   "source": []
  },
  {
   "cell_type": "code",
   "execution_count": 100,
   "metadata": {
    "collapsed": false
   },
   "outputs": [
    {
     "data": {
      "text/plain": [
       "<matplotlib.axes._subplots.AxesSubplot at 0x3b7a88d0>"
      ]
     },
     "execution_count": 100,
     "metadata": {},
     "output_type": "execute_result"
    },
    {
     "data": {
      "image/png": "[encoded data removed]",
      "text/plain": [
       "<matplotlib.figure.Figure at 0x3b7ba668>"
      ]
     },
     "metadata": {},
     "output_type": "display_data"
    }
   ],
   "source": [
    "sns.distplot(sfdf2[sfdf2['JobType'] == 'Engineering']['TotalPayBenefits'])"
   ]
  },
  {
   "cell_type": "code",
   "execution_count": 103,
   "metadata": {
    "collapsed": false
   },
   "outputs": [
    {
     "data": {
      "text/plain": [
       "<matplotlib.axes._subplots.AxesSubplot at 0x3aa45cf8>"
      ]
     },
     "execution_count": 103,
     "metadata": {},
     "output_type": "execute_result"
    },
    {
     "data": {
      "image/png": "[encoded data removed]",
      "text/plain": [
       "<matplotlib.figure.Figure at 0x3aa5d1d0>"
      ]
     },
     "metadata": {},
     "output_type": "display_data"
    }
   ],
   "source": [
    "sns.distplot(sfdf2[sfdf2['JobType'] == 'Engineering']['BasePay'].dropna())"
   ]
  },
  {
   "cell_type": "code",
   "execution_count": 105,
   "metadata": {
    "collapsed": false
   },
   "outputs": [
    {
     "data": {
      "text/plain": [
       "<matplotlib.axes._subplots.AxesSubplot at 0x3b73e7b8>"
      ]
     },
     "execution_count": 105,
     "metadata": {},
     "output_type": "execute_result"
    },
    {
     "data": {
      "image/png": "[encoded data removed]",
      "text/plain": [
       "<matplotlib.figure.Figure at 0x3b73eb38>"
      ]
     },
     "metadata": {},
     "output_type": "display_data"
    }
   ],
   "source": [
    "sfdf2.plot('BasePay','TotalPayBenefits',kind='scatter') # Positive Relationship"
   ]
  },
  {
   "cell_type": "code",
   "execution_count": 106,
   "metadata": {
    "collapsed": false
   },
   "outputs": [
    {
     "data": {
      "text/plain": [
       "<matplotlib.axes._subplots.AxesSubplot at 0x3b4d3d68>"
      ]
     },
     "execution_count": 106,
     "metadata": {},
     "output_type": "execute_result"
    },
    {
     "data": {
      "image/png": "[encoded data removed]",
      "text/plain": [
       "<matplotlib.figure.Figure at 0x3b4eaac8>"
      ]
     },
     "metadata": {},
     "output_type": "display_data"
    }
   ],
   "source": [
    "sfdf2.plot('BasePay','OtherPay',kind='scatter') # No visible Relationship"
   ]
  },
  {
   "cell_type": "code",
   "execution_count": 26,
   "metadata": {
    "collapsed": false
   },
   "outputs": [
    {
     "data": {
      "text/plain": [
       "array([nan, 'PT', 'FT'], dtype=object)"
      ]
     },
     "execution_count": 26,
     "metadata": {},
     "output_type": "execute_result"
    }
   ],
   "source": [
    "sfdf2.Status.unique()"
   ]
  },
  {
   "cell_type": "code",
   "execution_count": 27,
   "metadata": {
    "collapsed": false
   },
   "outputs": [
    {
     "data": {
      "text/plain": [
       "array([ nan])"
      ]
     },
     "execution_count": 27,
     "metadata": {},
     "output_type": "execute_result"
    }
   ],
   "source": [
    "sfdf2.Notes.unique()"
   ]
  },
  {
   "cell_type": "code",
   "execution_count": 28,
   "metadata": {
    "collapsed": false
   },
   "outputs": [
    {
     "data": {
      "text/html": [
       "<div>\n",
       "<table border=\"1\" class=\"dataframe\">\n",
       "  <thead>\n",
       "    <tr style=\"text-align: right;\">\n",
       "      <th></th>\n",
       "      <th>Id</th>\n",
       "      <th>JobType</th>\n",
       "      <th>EmployeeName</th>\n",
       "      <th>JobTitle</th>\n",
       "      <th>BasePay</th>\n",
       "      <th>OvertimePay</th>\n",
       "      <th>OtherPay</th>\n",
       "      <th>Benefits</th>\n",
       "      <th>TotalPay</th>\n",
       "      <th>TotalPayBenefits</th>\n",
       "      <th>Year</th>\n",
       "      <th>Notes</th>\n",
       "      <th>Agency</th>\n",
       "      <th>Status</th>\n",
       "    </tr>\n",
       "  </thead>\n",
       "  <tbody>\n",
       "    <tr>\n",
       "      <th>0</th>\n",
       "      <td>1</td>\n",
       "      <td>Transit</td>\n",
       "      <td>NATHANIEL FORD</td>\n",
       "      <td>GENERAL MANAGER-METROPOLITAN TRANSIT AUTHORITY</td>\n",
       "      <td>167411.18</td>\n",
       "      <td>0.00</td>\n",
       "      <td>400184.25</td>\n",
       "      <td>NaN</td>\n",
       "      <td>567595.43</td>\n",
       "      <td>567595.43</td>\n",
       "      <td>2011</td>\n",
       "      <td>NaN</td>\n",
       "      <td>San Francisco</td>\n",
       "      <td>NaN</td>\n",
       "    </tr>\n",
       "    <tr>\n",
       "      <th>1</th>\n",
       "      <td>2</td>\n",
       "      <td>Police</td>\n",
       "      <td>GARY JIMENEZ</td>\n",
       "      <td>CAPTAIN III (POLICE DEPARTMENT)</td>\n",
       "      <td>155966.02</td>\n",
       "      <td>245131.88</td>\n",
       "      <td>137811.38</td>\n",
       "      <td>NaN</td>\n",
       "      <td>538909.28</td>\n",
       "      <td>538909.28</td>\n",
       "      <td>2011</td>\n",
       "      <td>NaN</td>\n",
       "      <td>San Francisco</td>\n",
       "      <td>NaN</td>\n",
       "    </tr>\n",
       "    <tr>\n",
       "      <th>2</th>\n",
       "      <td>3</td>\n",
       "      <td>Police</td>\n",
       "      <td>ALBERT PARDINI</td>\n",
       "      <td>CAPTAIN III (POLICE DEPARTMENT)</td>\n",
       "      <td>212739.13</td>\n",
       "      <td>106088.18</td>\n",
       "      <td>16452.60</td>\n",
       "      <td>NaN</td>\n",
       "      <td>335279.91</td>\n",
       "      <td>335279.91</td>\n",
       "      <td>2011</td>\n",
       "      <td>NaN</td>\n",
       "      <td>San Francisco</td>\n",
       "      <td>NaN</td>\n",
       "    </tr>\n",
       "    <tr>\n",
       "      <th>3</th>\n",
       "      <td>4</td>\n",
       "      <td>Automotive</td>\n",
       "      <td>CHRISTOPHER CHONG</td>\n",
       "      <td>WIRE ROPE CABLE MAINTENANCE MECHANIC</td>\n",
       "      <td>77916.00</td>\n",
       "      <td>56120.71</td>\n",
       "      <td>198306.90</td>\n",
       "      <td>NaN</td>\n",
       "      <td>332343.61</td>\n",
       "      <td>332343.61</td>\n",
       "      <td>2011</td>\n",
       "      <td>NaN</td>\n",
       "      <td>San Francisco</td>\n",
       "      <td>NaN</td>\n",
       "    </tr>\n",
       "    <tr>\n",
       "      <th>4</th>\n",
       "      <td>5</td>\n",
       "      <td>Fire</td>\n",
       "      <td>PATRICK GARDNER</td>\n",
       "      <td>DEPUTY CHIEF OF DEPARTMENT,(FIRE DEPARTMENT)</td>\n",
       "      <td>134401.60</td>\n",
       "      <td>9737.00</td>\n",
       "      <td>182234.59</td>\n",
       "      <td>NaN</td>\n",
       "      <td>326373.19</td>\n",
       "      <td>326373.19</td>\n",
       "      <td>2011</td>\n",
       "      <td>NaN</td>\n",
       "      <td>San Francisco</td>\n",
       "      <td>NaN</td>\n",
       "    </tr>\n",
       "    <tr>\n",
       "      <th>5</th>\n",
       "      <td>6</td>\n",
       "      <td>None</td>\n",
       "      <td>DAVID SULLIVAN</td>\n",
       "      <td>ASSISTANT DEPUTY CHIEF II</td>\n",
       "      <td>118602.00</td>\n",
       "      <td>8601.00</td>\n",
       "      <td>189082.74</td>\n",
       "      <td>NaN</td>\n",
       "      <td>316285.74</td>\n",
       "      <td>316285.74</td>\n",
       "      <td>2011</td>\n",
       "      <td>NaN</td>\n",
       "      <td>San Francisco</td>\n",
       "      <td>NaN</td>\n",
       "    </tr>\n",
       "    <tr>\n",
       "      <th>6</th>\n",
       "      <td>7</td>\n",
       "      <td>Fire</td>\n",
       "      <td>ALSON LEE</td>\n",
       "      <td>BATTALION CHIEF, (FIRE DEPARTMENT)</td>\n",
       "      <td>92492.01</td>\n",
       "      <td>89062.90</td>\n",
       "      <td>134426.14</td>\n",
       "      <td>NaN</td>\n",
       "      <td>315981.05</td>\n",
       "      <td>315981.05</td>\n",
       "      <td>2011</td>\n",
       "      <td>NaN</td>\n",
       "      <td>San Francisco</td>\n",
       "      <td>NaN</td>\n",
       "    </tr>\n",
       "    <tr>\n",
       "      <th>7</th>\n",
       "      <td>8</td>\n",
       "      <td>None</td>\n",
       "      <td>DAVID KUSHNER</td>\n",
       "      <td>DEPUTY DIRECTOR OF INVESTMENTS</td>\n",
       "      <td>256576.96</td>\n",
       "      <td>0.00</td>\n",
       "      <td>51322.50</td>\n",
       "      <td>NaN</td>\n",
       "      <td>307899.46</td>\n",
       "      <td>307899.46</td>\n",
       "      <td>2011</td>\n",
       "      <td>NaN</td>\n",
       "      <td>San Francisco</td>\n",
       "      <td>NaN</td>\n",
       "    </tr>\n",
       "    <tr>\n",
       "      <th>8</th>\n",
       "      <td>9</td>\n",
       "      <td>Fire</td>\n",
       "      <td>MICHAEL MORRIS</td>\n",
       "      <td>BATTALION CHIEF, (FIRE DEPARTMENT)</td>\n",
       "      <td>176932.64</td>\n",
       "      <td>86362.68</td>\n",
       "      <td>40132.23</td>\n",
       "      <td>NaN</td>\n",
       "      <td>303427.55</td>\n",
       "      <td>303427.55</td>\n",
       "      <td>2011</td>\n",
       "      <td>NaN</td>\n",
       "      <td>San Francisco</td>\n",
       "      <td>NaN</td>\n",
       "    </tr>\n",
       "    <tr>\n",
       "      <th>9</th>\n",
       "      <td>10</td>\n",
       "      <td>Fire</td>\n",
       "      <td>JOANNE HAYES-WHITE</td>\n",
       "      <td>CHIEF OF DEPARTMENT, (FIRE DEPARTMENT)</td>\n",
       "      <td>285262.00</td>\n",
       "      <td>0.00</td>\n",
       "      <td>17115.73</td>\n",
       "      <td>NaN</td>\n",
       "      <td>302377.73</td>\n",
       "      <td>302377.73</td>\n",
       "      <td>2011</td>\n",
       "      <td>NaN</td>\n",
       "      <td>San Francisco</td>\n",
       "      <td>NaN</td>\n",
       "    </tr>\n",
       "  </tbody>\n",
       "</table>\n",
       "</div>"
      ],
      "text/plain": [
       "   Id     JobType        EmployeeName  \\\n",
       "0   1     Transit      NATHANIEL FORD   \n",
       "1   2      Police        GARY JIMENEZ   \n",
       "2   3      Police      ALBERT PARDINI   \n",
       "3   4  Automotive   CHRISTOPHER CHONG   \n",
       "4   5        Fire     PATRICK GARDNER   \n",
       "5   6        None      DAVID SULLIVAN   \n",
       "6   7        Fire           ALSON LEE   \n",
       "7   8        None       DAVID KUSHNER   \n",
       "8   9        Fire      MICHAEL MORRIS   \n",
       "9  10        Fire  JOANNE HAYES-WHITE   \n",
       "\n",
       "                                         JobTitle    BasePay  OvertimePay  \\\n",
       "0  GENERAL MANAGER-METROPOLITAN TRANSIT AUTHORITY  167411.18         0.00   \n",
       "1                 CAPTAIN III (POLICE DEPARTMENT)  155966.02    245131.88   \n",
       "2                 CAPTAIN III (POLICE DEPARTMENT)  212739.13    106088.18   \n",
       "3            WIRE ROPE CABLE MAINTENANCE MECHANIC   77916.00     56120.71   \n",
       "4    DEPUTY CHIEF OF DEPARTMENT,(FIRE DEPARTMENT)  134401.60      9737.00   \n",
       "5                       ASSISTANT DEPUTY CHIEF II  118602.00      8601.00   \n",
       "6              BATTALION CHIEF, (FIRE DEPARTMENT)   92492.01     89062.90   \n",
       "7                  DEPUTY DIRECTOR OF INVESTMENTS  256576.96         0.00   \n",
       "8              BATTALION CHIEF, (FIRE DEPARTMENT)  176932.64     86362.68   \n",
       "9          CHIEF OF DEPARTMENT, (FIRE DEPARTMENT)  285262.00         0.00   \n",
       "\n",
       "    OtherPay  Benefits   TotalPay  TotalPayBenefits  Year  Notes  \\\n",
       "0  400184.25       NaN  567595.43         567595.43  2011    NaN   \n",
       "1  137811.38       NaN  538909.28         538909.28  2011    NaN   \n",
       "2   16452.60       NaN  335279.91         335279.91  2011    NaN   \n",
       "3  198306.90       NaN  332343.61         332343.61  2011    NaN   \n",
       "4  182234.59       NaN  326373.19         326373.19  2011    NaN   \n",
       "5  189082.74       NaN  316285.74         316285.74  2011    NaN   \n",
       "6  134426.14       NaN  315981.05         315981.05  2011    NaN   \n",
       "7   51322.50       NaN  307899.46         307899.46  2011    NaN   \n",
       "8   40132.23       NaN  303427.55         303427.55  2011    NaN   \n",
       "9   17115.73       NaN  302377.73         302377.73  2011    NaN   \n",
       "\n",
       "          Agency Status  \n",
       "0  San Francisco    NaN  \n",
       "1  San Francisco    NaN  \n",
       "2  San Francisco    NaN  \n",
       "3  San Francisco    NaN  \n",
       "4  San Francisco    NaN  \n",
       "5  San Francisco    NaN  \n",
       "6  San Francisco    NaN  \n",
       "7  San Francisco    NaN  \n",
       "8  San Francisco    NaN  \n",
       "9  San Francisco    NaN  "
      ]
     },
     "execution_count": 28,
     "metadata": {},
     "output_type": "execute_result"
    }
   ],
   "source": [
    "sfdf2.head(10)"
   ]
  },
  {
   "cell_type": "code",
   "execution_count": 11,
   "metadata": {
    "collapsed": false
   },
   "outputs": [
    {
     "data": {
      "text/plain": [
       "Id                       0\n",
       "JobType              58264\n",
       "EmployeeName             0\n",
       "JobTitle                 0\n",
       "BasePay                605\n",
       "OvertimePay              0\n",
       "OtherPay                 0\n",
       "Benefits             36159\n",
       "TotalPay                 0\n",
       "TotalPayBenefits         0\n",
       "Year                     0\n",
       "Notes               148650\n",
       "Agency                   0\n",
       "Status              110531\n",
       "dtype: int64"
      ]
     },
     "execution_count": 11,
     "metadata": {},
     "output_type": "execute_result"
    }
   ],
   "source": [
    "# Checking for Missing Values\n",
    "sfdf2.apply(lambda x: sum(x.isnull()))"
   ]
  },
  {
   "cell_type": "code",
   "execution_count": 16,
   "metadata": {
    "collapsed": false
   },
   "outputs": [
    {
     "data": {
      "text/html": [
       "<div>\n",
       "<table border=\"1\" class=\"dataframe\">\n",
       "  <thead>\n",
       "    <tr style=\"text-align: right;\">\n",
       "      <th></th>\n",
       "      <th>Id</th>\n",
       "      <th>JobType</th>\n",
       "      <th>EmployeeName</th>\n",
       "      <th>JobTitle</th>\n",
       "      <th>BasePay</th>\n",
       "      <th>OvertimePay</th>\n",
       "      <th>OtherPay</th>\n",
       "      <th>Benefits</th>\n",
       "      <th>TotalPay</th>\n",
       "      <th>TotalPayBenefits</th>\n",
       "      <th>Year</th>\n",
       "      <th>Notes</th>\n",
       "      <th>Agency</th>\n",
       "      <th>Status</th>\n",
       "    </tr>\n",
       "  </thead>\n",
       "  <tbody>\n",
       "    <tr>\n",
       "      <th>5</th>\n",
       "      <td>6</td>\n",
       "      <td>None</td>\n",
       "      <td>DAVID SULLIVAN</td>\n",
       "      <td>ASSISTANT DEPUTY CHIEF II</td>\n",
       "      <td>118602.00</td>\n",
       "      <td>8601.00</td>\n",
       "      <td>189082.74</td>\n",
       "      <td>NaN</td>\n",
       "      <td>316285.74</td>\n",
       "      <td>316285.74</td>\n",
       "      <td>2011</td>\n",
       "      <td>NaN</td>\n",
       "      <td>San Francisco</td>\n",
       "      <td>NaN</td>\n",
       "    </tr>\n",
       "    <tr>\n",
       "      <th>7</th>\n",
       "      <td>8</td>\n",
       "      <td>None</td>\n",
       "      <td>DAVID KUSHNER</td>\n",
       "      <td>DEPUTY DIRECTOR OF INVESTMENTS</td>\n",
       "      <td>256576.96</td>\n",
       "      <td>0.00</td>\n",
       "      <td>51322.50</td>\n",
       "      <td>NaN</td>\n",
       "      <td>307899.46</td>\n",
       "      <td>307899.46</td>\n",
       "      <td>2011</td>\n",
       "      <td>NaN</td>\n",
       "      <td>San Francisco</td>\n",
       "      <td>NaN</td>\n",
       "    </tr>\n",
       "    <tr>\n",
       "      <th>12</th>\n",
       "      <td>13</td>\n",
       "      <td>None</td>\n",
       "      <td>EDWARD HARRINGTON</td>\n",
       "      <td>EXECUTIVE CONTRACT EMPLOYEE</td>\n",
       "      <td>294580.02</td>\n",
       "      <td>0.00</td>\n",
       "      <td>0.00</td>\n",
       "      <td>NaN</td>\n",
       "      <td>294580.02</td>\n",
       "      <td>294580.02</td>\n",
       "      <td>2011</td>\n",
       "      <td>NaN</td>\n",
       "      <td>San Francisco</td>\n",
       "      <td>NaN</td>\n",
       "    </tr>\n",
       "    <tr>\n",
       "      <th>13</th>\n",
       "      <td>14</td>\n",
       "      <td>None</td>\n",
       "      <td>JOHN MARTIN</td>\n",
       "      <td>DEPARTMENT HEAD V</td>\n",
       "      <td>271329.03</td>\n",
       "      <td>0.00</td>\n",
       "      <td>21342.59</td>\n",
       "      <td>NaN</td>\n",
       "      <td>292671.62</td>\n",
       "      <td>292671.62</td>\n",
       "      <td>2011</td>\n",
       "      <td>NaN</td>\n",
       "      <td>San Francisco</td>\n",
       "      <td>NaN</td>\n",
       "    </tr>\n",
       "    <tr>\n",
       "      <th>16</th>\n",
       "      <td>17</td>\n",
       "      <td>None</td>\n",
       "      <td>AMY HART</td>\n",
       "      <td>DEPARTMENT HEAD V</td>\n",
       "      <td>268604.57</td>\n",
       "      <td>0.00</td>\n",
       "      <td>16115.86</td>\n",
       "      <td>NaN</td>\n",
       "      <td>284720.43</td>\n",
       "      <td>284720.43</td>\n",
       "      <td>2011</td>\n",
       "      <td>NaN</td>\n",
       "      <td>San Francisco</td>\n",
       "      <td>NaN</td>\n",
       "    </tr>\n",
       "    <tr>\n",
       "      <th>30</th>\n",
       "      <td>31</td>\n",
       "      <td>None</td>\n",
       "      <td>HARLAN KELLY-JR</td>\n",
       "      <td>EXECUTIVE CONTRACT EMPLOYEE</td>\n",
       "      <td>234325.02</td>\n",
       "      <td>0.00</td>\n",
       "      <td>25972.64</td>\n",
       "      <td>NaN</td>\n",
       "      <td>260297.66</td>\n",
       "      <td>260297.66</td>\n",
       "      <td>2011</td>\n",
       "      <td>NaN</td>\n",
       "      <td>San Francisco</td>\n",
       "      <td>NaN</td>\n",
       "    </tr>\n",
       "    <tr>\n",
       "      <th>32</th>\n",
       "      <td>33</td>\n",
       "      <td>None</td>\n",
       "      <td>GARY AMELIO</td>\n",
       "      <td>DEPARTMENT HEAD V</td>\n",
       "      <td>248895.70</td>\n",
       "      <td>0.00</td>\n",
       "      <td>10789.18</td>\n",
       "      <td>NaN</td>\n",
       "      <td>259684.88</td>\n",
       "      <td>259684.88</td>\n",
       "      <td>2011</td>\n",
       "      <td>NaN</td>\n",
       "      <td>San Francisco</td>\n",
       "      <td>NaN</td>\n",
       "    </tr>\n",
       "    <tr>\n",
       "      <th>35</th>\n",
       "      <td>36</td>\n",
       "      <td>None</td>\n",
       "      <td>KHOA TRINH</td>\n",
       "      <td>ELECTRONIC MAINTENANCE TECHNICIAN</td>\n",
       "      <td>101953.20</td>\n",
       "      <td>139102.95</td>\n",
       "      <td>16483.94</td>\n",
       "      <td>NaN</td>\n",
       "      <td>257540.09</td>\n",
       "      <td>257540.09</td>\n",
       "      <td>2011</td>\n",
       "      <td>NaN</td>\n",
       "      <td>San Francisco</td>\n",
       "      <td>NaN</td>\n",
       "    </tr>\n",
       "    <tr>\n",
       "      <th>47</th>\n",
       "      <td>48</td>\n",
       "      <td>None</td>\n",
       "      <td>TRENT RHORER</td>\n",
       "      <td>DEPARTMENT HEAD V</td>\n",
       "      <td>248895.77</td>\n",
       "      <td>0.00</td>\n",
       "      <td>0.00</td>\n",
       "      <td>NaN</td>\n",
       "      <td>248895.77</td>\n",
       "      <td>248895.77</td>\n",
       "      <td>2011</td>\n",
       "      <td>NaN</td>\n",
       "      <td>San Francisco</td>\n",
       "      <td>NaN</td>\n",
       "    </tr>\n",
       "    <tr>\n",
       "      <th>51</th>\n",
       "      <td>52</td>\n",
       "      <td>None</td>\n",
       "      <td>BARBARA GARCIA</td>\n",
       "      <td>DEPARTMENT HEAD V</td>\n",
       "      <td>246305.62</td>\n",
       "      <td>0.00</td>\n",
       "      <td>0.00</td>\n",
       "      <td>NaN</td>\n",
       "      <td>246305.62</td>\n",
       "      <td>246305.62</td>\n",
       "      <td>2011</td>\n",
       "      <td>NaN</td>\n",
       "      <td>San Francisco</td>\n",
       "      <td>NaN</td>\n",
       "    </tr>\n",
       "    <tr>\n",
       "      <th>56</th>\n",
       "      <td>57</td>\n",
       "      <td>None</td>\n",
       "      <td>BENJAMIN ROSENFIELD</td>\n",
       "      <td>DEPARTMENT HEAD V</td>\n",
       "      <td>240731.93</td>\n",
       "      <td>0.00</td>\n",
       "      <td>114.37</td>\n",
       "      <td>NaN</td>\n",
       "      <td>240846.30</td>\n",
       "      <td>240846.30</td>\n",
       "      <td>2011</td>\n",
       "      <td>NaN</td>\n",
       "      <td>San Francisco</td>\n",
       "      <td>NaN</td>\n",
       "    </tr>\n",
       "    <tr>\n",
       "      <th>57</th>\n",
       "      <td>58</td>\n",
       "      <td>None</td>\n",
       "      <td>MARK KEARNEY</td>\n",
       "      <td>ASSISTANT DEPUTY CHIEF II</td>\n",
       "      <td>217410.80</td>\n",
       "      <td>0.00</td>\n",
       "      <td>22608.30</td>\n",
       "      <td>NaN</td>\n",
       "      <td>240019.10</td>\n",
       "      <td>240019.10</td>\n",
       "      <td>2011</td>\n",
       "      <td>NaN</td>\n",
       "      <td>San Francisco</td>\n",
       "      <td>NaN</td>\n",
       "    </tr>\n",
       "    <tr>\n",
       "      <th>58</th>\n",
       "      <td>59</td>\n",
       "      <td>None</td>\n",
       "      <td>DOUGLAS RIBA</td>\n",
       "      <td>INCIDENT SUPPORT SPECIALIST</td>\n",
       "      <td>115381.02</td>\n",
       "      <td>105028.94</td>\n",
       "      <td>19016.40</td>\n",
       "      <td>NaN</td>\n",
       "      <td>239426.36</td>\n",
       "      <td>239426.36</td>\n",
       "      <td>2011</td>\n",
       "      <td>NaN</td>\n",
       "      <td>San Francisco</td>\n",
       "      <td>NaN</td>\n",
       "    </tr>\n",
       "    <tr>\n",
       "      <th>69</th>\n",
       "      <td>70</td>\n",
       "      <td>None</td>\n",
       "      <td>WING CHAN</td>\n",
       "      <td>INCIDENT SUPPORT SPECIALIST</td>\n",
       "      <td>115455.44</td>\n",
       "      <td>104632.95</td>\n",
       "      <td>14776.81</td>\n",
       "      <td>NaN</td>\n",
       "      <td>234865.20</td>\n",
       "      <td>234865.20</td>\n",
       "      <td>2011</td>\n",
       "      <td>NaN</td>\n",
       "      <td>San Francisco</td>\n",
       "      <td>NaN</td>\n",
       "    </tr>\n",
       "    <tr>\n",
       "      <th>73</th>\n",
       "      <td>74</td>\n",
       "      <td>None</td>\n",
       "      <td>MONIQUE MOYER</td>\n",
       "      <td>PORT DIRECTOR</td>\n",
       "      <td>233357.28</td>\n",
       "      <td>0.00</td>\n",
       "      <td>0.00</td>\n",
       "      <td>NaN</td>\n",
       "      <td>233357.28</td>\n",
       "      <td>233357.28</td>\n",
       "      <td>2011</td>\n",
       "      <td>NaN</td>\n",
       "      <td>San Francisco</td>\n",
       "      <td>NaN</td>\n",
       "    </tr>\n",
       "    <tr>\n",
       "      <th>87</th>\n",
       "      <td>88</td>\n",
       "      <td>None</td>\n",
       "      <td>KEVIN BARRY</td>\n",
       "      <td>MANAGER VII</td>\n",
       "      <td>96814.36</td>\n",
       "      <td>0.00</td>\n",
       "      <td>133563.47</td>\n",
       "      <td>NaN</td>\n",
       "      <td>230377.83</td>\n",
       "      <td>230377.83</td>\n",
       "      <td>2011</td>\n",
       "      <td>NaN</td>\n",
       "      <td>San Francisco</td>\n",
       "      <td>NaN</td>\n",
       "    </tr>\n",
       "    <tr>\n",
       "      <th>95</th>\n",
       "      <td>96</td>\n",
       "      <td>None</td>\n",
       "      <td>MIVIC HIROSE</td>\n",
       "      <td>MANAGER VIII</td>\n",
       "      <td>215180.76</td>\n",
       "      <td>0.00</td>\n",
       "      <td>12000.00</td>\n",
       "      <td>NaN</td>\n",
       "      <td>227180.76</td>\n",
       "      <td>227180.76</td>\n",
       "      <td>2011</td>\n",
       "      <td>NaN</td>\n",
       "      <td>San Francisco</td>\n",
       "      <td>NaN</td>\n",
       "    </tr>\n",
       "    <tr>\n",
       "      <th>99</th>\n",
       "      <td>100</td>\n",
       "      <td>None</td>\n",
       "      <td>SONALI BOSE</td>\n",
       "      <td>DEPUTY DIRECTOR II - MUNICIPAL TRANSPORTATION AG</td>\n",
       "      <td>224035.85</td>\n",
       "      <td>0.00</td>\n",
       "      <td>0.00</td>\n",
       "      <td>NaN</td>\n",
       "      <td>224035.85</td>\n",
       "      <td>224035.85</td>\n",
       "      <td>2011</td>\n",
       "      <td>NaN</td>\n",
       "      <td>San Francisco</td>\n",
       "      <td>NaN</td>\n",
       "    </tr>\n",
       "    <tr>\n",
       "      <th>112</th>\n",
       "      <td>113</td>\n",
       "      <td>None</td>\n",
       "      <td>JOHN HALEY JR</td>\n",
       "      <td>DEPUTY DIRECTOR II - MUNICIPAL TRANSPORTATION AG</td>\n",
       "      <td>220115.22</td>\n",
       "      <td>0.00</td>\n",
       "      <td>237.00</td>\n",
       "      <td>NaN</td>\n",
       "      <td>220352.22</td>\n",
       "      <td>220352.22</td>\n",
       "      <td>2011</td>\n",
       "      <td>NaN</td>\n",
       "      <td>San Francisco</td>\n",
       "      <td>NaN</td>\n",
       "    </tr>\n",
       "    <tr>\n",
       "      <th>116</th>\n",
       "      <td>117</td>\n",
       "      <td>None</td>\n",
       "      <td>JACKSON WONG</td>\n",
       "      <td>DEPUTY DIRECTOR V</td>\n",
       "      <td>219804.34</td>\n",
       "      <td>0.00</td>\n",
       "      <td>0.00</td>\n",
       "      <td>NaN</td>\n",
       "      <td>219804.34</td>\n",
       "      <td>219804.34</td>\n",
       "      <td>2011</td>\n",
       "      <td>NaN</td>\n",
       "      <td>San Francisco</td>\n",
       "      <td>NaN</td>\n",
       "    </tr>\n",
       "    <tr>\n",
       "      <th>132</th>\n",
       "      <td>133</td>\n",
       "      <td>None</td>\n",
       "      <td>JOHN RAHAIM</td>\n",
       "      <td>DEPARTMENT HEAD IV</td>\n",
       "      <td>215799.48</td>\n",
       "      <td>0.00</td>\n",
       "      <td>0.00</td>\n",
       "      <td>NaN</td>\n",
       "      <td>215799.48</td>\n",
       "      <td>215799.48</td>\n",
       "      <td>2011</td>\n",
       "      <td>NaN</td>\n",
       "      <td>San Francisco</td>\n",
       "      <td>NaN</td>\n",
       "    </tr>\n",
       "    <tr>\n",
       "      <th>136</th>\n",
       "      <td>137</td>\n",
       "      <td>None</td>\n",
       "      <td>NIKOLAS LEMOS</td>\n",
       "      <td>FORENSIC TOXICOLOGIST</td>\n",
       "      <td>182368.79</td>\n",
       "      <td>0.00</td>\n",
       "      <td>32949.41</td>\n",
       "      <td>NaN</td>\n",
       "      <td>215318.20</td>\n",
       "      <td>215318.20</td>\n",
       "      <td>2011</td>\n",
       "      <td>NaN</td>\n",
       "      <td>San Francisco</td>\n",
       "      <td>NaN</td>\n",
       "    </tr>\n",
       "    <tr>\n",
       "      <th>137</th>\n",
       "      <td>138</td>\n",
       "      <td>None</td>\n",
       "      <td>MICHAEL CARLIN</td>\n",
       "      <td>DEPUTY DIRECTOR V</td>\n",
       "      <td>215180.75</td>\n",
       "      <td>0.00</td>\n",
       "      <td>0.00</td>\n",
       "      <td>NaN</td>\n",
       "      <td>215180.75</td>\n",
       "      <td>215180.75</td>\n",
       "      <td>2011</td>\n",
       "      <td>NaN</td>\n",
       "      <td>San Francisco</td>\n",
       "      <td>NaN</td>\n",
       "    </tr>\n",
       "    <tr>\n",
       "      <th>159</th>\n",
       "      <td>160</td>\n",
       "      <td>None</td>\n",
       "      <td>DEBRA JOHNSON</td>\n",
       "      <td>DEPUTY DIRECTOR II - MUNICIPAL TRANSPORTATION AG</td>\n",
       "      <td>210821.61</td>\n",
       "      <td>0.00</td>\n",
       "      <td>0.00</td>\n",
       "      <td>NaN</td>\n",
       "      <td>210821.61</td>\n",
       "      <td>210821.61</td>\n",
       "      <td>2011</td>\n",
       "      <td>NaN</td>\n",
       "      <td>San Francisco</td>\n",
       "      <td>NaN</td>\n",
       "    </tr>\n",
       "    <tr>\n",
       "      <th>162</th>\n",
       "      <td>163</td>\n",
       "      <td>None</td>\n",
       "      <td>JULIE LABONTE</td>\n",
       "      <td>MANAGER VIII</td>\n",
       "      <td>207501.20</td>\n",
       "      <td>0.00</td>\n",
       "      <td>2903.37</td>\n",
       "      <td>NaN</td>\n",
       "      <td>210404.57</td>\n",
       "      <td>210404.57</td>\n",
       "      <td>2011</td>\n",
       "      <td>NaN</td>\n",
       "      <td>San Francisco</td>\n",
       "      <td>NaN</td>\n",
       "    </tr>\n",
       "    <tr>\n",
       "      <th>177</th>\n",
       "      <td>178</td>\n",
       "      <td>None</td>\n",
       "      <td>HARVEY ELWIN</td>\n",
       "      <td>MANAGER VIII</td>\n",
       "      <td>200385.64</td>\n",
       "      <td>0.00</td>\n",
       "      <td>8000.00</td>\n",
       "      <td>NaN</td>\n",
       "      <td>208385.64</td>\n",
       "      <td>208385.64</td>\n",
       "      <td>2011</td>\n",
       "      <td>NaN</td>\n",
       "      <td>San Francisco</td>\n",
       "      <td>NaN</td>\n",
       "    </tr>\n",
       "    <tr>\n",
       "      <th>182</th>\n",
       "      <td>183</td>\n",
       "      <td>None</td>\n",
       "      <td>SUSAN BUCHBINDER</td>\n",
       "      <td>MANAGER VIII</td>\n",
       "      <td>207874.94</td>\n",
       "      <td>0.00</td>\n",
       "      <td>0.00</td>\n",
       "      <td>NaN</td>\n",
       "      <td>207874.94</td>\n",
       "      <td>207874.94</td>\n",
       "      <td>2011</td>\n",
       "      <td>NaN</td>\n",
       "      <td>San Francisco</td>\n",
       "      <td>NaN</td>\n",
       "    </tr>\n",
       "    <tr>\n",
       "      <th>185</th>\n",
       "      <td>186</td>\n",
       "      <td>None</td>\n",
       "      <td>JOHN BROWN</td>\n",
       "      <td>MANAGER VIII</td>\n",
       "      <td>207798.79</td>\n",
       "      <td>0.00</td>\n",
       "      <td>0.00</td>\n",
       "      <td>NaN</td>\n",
       "      <td>207798.79</td>\n",
       "      <td>207798.79</td>\n",
       "      <td>2011</td>\n",
       "      <td>NaN</td>\n",
       "      <td>San Francisco</td>\n",
       "      <td>NaN</td>\n",
       "    </tr>\n",
       "    <tr>\n",
       "      <th>188</th>\n",
       "      <td>189</td>\n",
       "      <td>None</td>\n",
       "      <td>LUIS HERRERA</td>\n",
       "      <td>DEPARTMENT HEAD IV</td>\n",
       "      <td>207699.73</td>\n",
       "      <td>0.00</td>\n",
       "      <td>0.00</td>\n",
       "      <td>NaN</td>\n",
       "      <td>207699.73</td>\n",
       "      <td>207699.73</td>\n",
       "      <td>2011</td>\n",
       "      <td>NaN</td>\n",
       "      <td>San Francisco</td>\n",
       "      <td>NaN</td>\n",
       "    </tr>\n",
       "    <tr>\n",
       "      <th>205</th>\n",
       "      <td>206</td>\n",
       "      <td>None</td>\n",
       "      <td>COLLEEN RILEY</td>\n",
       "      <td>MANAGER VIII</td>\n",
       "      <td>205609.58</td>\n",
       "      <td>0.00</td>\n",
       "      <td>0.00</td>\n",
       "      <td>NaN</td>\n",
       "      <td>205609.58</td>\n",
       "      <td>205609.58</td>\n",
       "      <td>2011</td>\n",
       "      <td>NaN</td>\n",
       "      <td>San Francisco</td>\n",
       "      <td>NaN</td>\n",
       "    </tr>\n",
       "    <tr>\n",
       "      <th>...</th>\n",
       "      <td>...</td>\n",
       "      <td>...</td>\n",
       "      <td>...</td>\n",
       "      <td>...</td>\n",
       "      <td>...</td>\n",
       "      <td>...</td>\n",
       "      <td>...</td>\n",
       "      <td>...</td>\n",
       "      <td>...</td>\n",
       "      <td>...</td>\n",
       "      <td>...</td>\n",
       "      <td>...</td>\n",
       "      <td>...</td>\n",
       "      <td>...</td>\n",
       "    </tr>\n",
       "    <tr>\n",
       "      <th>148593</th>\n",
       "      <td>148594</td>\n",
       "      <td>None</td>\n",
       "      <td>Lourdes Rodriguez</td>\n",
       "      <td>Protective Services Worker</td>\n",
       "      <td>0.00</td>\n",
       "      <td>0.00</td>\n",
       "      <td>43.50</td>\n",
       "      <td>0.00</td>\n",
       "      <td>43.50</td>\n",
       "      <td>43.50</td>\n",
       "      <td>2014</td>\n",
       "      <td>NaN</td>\n",
       "      <td>San Francisco</td>\n",
       "      <td>PT</td>\n",
       "    </tr>\n",
       "    <tr>\n",
       "      <th>148595</th>\n",
       "      <td>148596</td>\n",
       "      <td>None</td>\n",
       "      <td>Robert B Woodville</td>\n",
       "      <td>Recreation Leader</td>\n",
       "      <td>40.28</td>\n",
       "      <td>0.00</td>\n",
       "      <td>0.00</td>\n",
       "      <td>0.40</td>\n",
       "      <td>40.28</td>\n",
       "      <td>40.68</td>\n",
       "      <td>2014</td>\n",
       "      <td>NaN</td>\n",
       "      <td>San Francisco</td>\n",
       "      <td>PT</td>\n",
       "    </tr>\n",
       "    <tr>\n",
       "      <th>148598</th>\n",
       "      <td>148599</td>\n",
       "      <td>None</td>\n",
       "      <td>Richard E Aicardi</td>\n",
       "      <td>Recreation Leader</td>\n",
       "      <td>37.25</td>\n",
       "      <td>0.00</td>\n",
       "      <td>0.00</td>\n",
       "      <td>0.37</td>\n",
       "      <td>37.25</td>\n",
       "      <td>37.62</td>\n",
       "      <td>2014</td>\n",
       "      <td>NaN</td>\n",
       "      <td>San Francisco</td>\n",
       "      <td>PT</td>\n",
       "    </tr>\n",
       "    <tr>\n",
       "      <th>148599</th>\n",
       "      <td>148600</td>\n",
       "      <td>None</td>\n",
       "      <td>Thomas A Harris</td>\n",
       "      <td>Recreation Leader</td>\n",
       "      <td>37.25</td>\n",
       "      <td>0.00</td>\n",
       "      <td>0.00</td>\n",
       "      <td>0.37</td>\n",
       "      <td>37.25</td>\n",
       "      <td>37.62</td>\n",
       "      <td>2014</td>\n",
       "      <td>NaN</td>\n",
       "      <td>San Francisco</td>\n",
       "      <td>PT</td>\n",
       "    </tr>\n",
       "    <tr>\n",
       "      <th>148600</th>\n",
       "      <td>148601</td>\n",
       "      <td>None</td>\n",
       "      <td>Kim L Evans</td>\n",
       "      <td>Recreation Leader</td>\n",
       "      <td>37.23</td>\n",
       "      <td>0.00</td>\n",
       "      <td>0.00</td>\n",
       "      <td>0.37</td>\n",
       "      <td>37.23</td>\n",
       "      <td>37.60</td>\n",
       "      <td>2014</td>\n",
       "      <td>NaN</td>\n",
       "      <td>San Francisco</td>\n",
       "      <td>PT</td>\n",
       "    </tr>\n",
       "    <tr>\n",
       "      <th>148601</th>\n",
       "      <td>148602</td>\n",
       "      <td>None</td>\n",
       "      <td>Brieanna Mcfadden</td>\n",
       "      <td>Recreation Leader</td>\n",
       "      <td>34.88</td>\n",
       "      <td>0.00</td>\n",
       "      <td>0.00</td>\n",
       "      <td>0.35</td>\n",
       "      <td>34.88</td>\n",
       "      <td>35.23</td>\n",
       "      <td>2014</td>\n",
       "      <td>NaN</td>\n",
       "      <td>San Francisco</td>\n",
       "      <td>PT</td>\n",
       "    </tr>\n",
       "    <tr>\n",
       "      <th>148602</th>\n",
       "      <td>148603</td>\n",
       "      <td>None</td>\n",
       "      <td>Trayvonte T Britt</td>\n",
       "      <td>Recreation Leader</td>\n",
       "      <td>34.75</td>\n",
       "      <td>0.00</td>\n",
       "      <td>0.00</td>\n",
       "      <td>0.35</td>\n",
       "      <td>34.75</td>\n",
       "      <td>35.10</td>\n",
       "      <td>2014</td>\n",
       "      <td>NaN</td>\n",
       "      <td>San Francisco</td>\n",
       "      <td>PT</td>\n",
       "    </tr>\n",
       "    <tr>\n",
       "      <th>148603</th>\n",
       "      <td>148604</td>\n",
       "      <td>None</td>\n",
       "      <td>Elizabeth Williams</td>\n",
       "      <td>Physical Therapist</td>\n",
       "      <td>0.00</td>\n",
       "      <td>0.00</td>\n",
       "      <td>34.64</td>\n",
       "      <td>0.00</td>\n",
       "      <td>34.64</td>\n",
       "      <td>34.64</td>\n",
       "      <td>2014</td>\n",
       "      <td>NaN</td>\n",
       "      <td>San Francisco</td>\n",
       "      <td>PT</td>\n",
       "    </tr>\n",
       "    <tr>\n",
       "      <th>148604</th>\n",
       "      <td>148605</td>\n",
       "      <td>None</td>\n",
       "      <td>Sugyn M Paynay</td>\n",
       "      <td>Publ Svc Aide-Asst to Prof</td>\n",
       "      <td>34.03</td>\n",
       "      <td>0.00</td>\n",
       "      <td>0.00</td>\n",
       "      <td>0.34</td>\n",
       "      <td>34.03</td>\n",
       "      <td>34.37</td>\n",
       "      <td>2014</td>\n",
       "      <td>NaN</td>\n",
       "      <td>San Francisco</td>\n",
       "      <td>PT</td>\n",
       "    </tr>\n",
       "    <tr>\n",
       "      <th>148606</th>\n",
       "      <td>148607</td>\n",
       "      <td>None</td>\n",
       "      <td>Randall Cinti</td>\n",
       "      <td>School Crossing Guard</td>\n",
       "      <td>31.75</td>\n",
       "      <td>0.00</td>\n",
       "      <td>0.00</td>\n",
       "      <td>0.32</td>\n",
       "      <td>31.75</td>\n",
       "      <td>32.07</td>\n",
       "      <td>2014</td>\n",
       "      <td>NaN</td>\n",
       "      <td>San Francisco</td>\n",
       "      <td>PT</td>\n",
       "    </tr>\n",
       "    <tr>\n",
       "      <th>148607</th>\n",
       "      <td>148608</td>\n",
       "      <td>None</td>\n",
       "      <td>Gary C Schoenfeld</td>\n",
       "      <td>Pool Lifeguard</td>\n",
       "      <td>31.43</td>\n",
       "      <td>0.00</td>\n",
       "      <td>0.00</td>\n",
       "      <td>0.31</td>\n",
       "      <td>31.43</td>\n",
       "      <td>31.74</td>\n",
       "      <td>2014</td>\n",
       "      <td>NaN</td>\n",
       "      <td>San Francisco</td>\n",
       "      <td>PT</td>\n",
       "    </tr>\n",
       "    <tr>\n",
       "      <th>148609</th>\n",
       "      <td>148610</td>\n",
       "      <td>None</td>\n",
       "      <td>Tucker L Silva</td>\n",
       "      <td>Pool Lifeguard</td>\n",
       "      <td>26.94</td>\n",
       "      <td>0.00</td>\n",
       "      <td>0.00</td>\n",
       "      <td>0.27</td>\n",
       "      <td>26.94</td>\n",
       "      <td>27.21</td>\n",
       "      <td>2014</td>\n",
       "      <td>NaN</td>\n",
       "      <td>San Francisco</td>\n",
       "      <td>PT</td>\n",
       "    </tr>\n",
       "    <tr>\n",
       "      <th>148611</th>\n",
       "      <td>148612</td>\n",
       "      <td>None</td>\n",
       "      <td>Patricia M Mackey-Williams</td>\n",
       "      <td>Patient Care Assistant</td>\n",
       "      <td>0.00</td>\n",
       "      <td>0.00</td>\n",
       "      <td>25.57</td>\n",
       "      <td>0.00</td>\n",
       "      <td>25.57</td>\n",
       "      <td>25.57</td>\n",
       "      <td>2014</td>\n",
       "      <td>NaN</td>\n",
       "      <td>San Francisco</td>\n",
       "      <td>PT</td>\n",
       "    </tr>\n",
       "    <tr>\n",
       "      <th>148612</th>\n",
       "      <td>148613</td>\n",
       "      <td>None</td>\n",
       "      <td>Kermith T Miller</td>\n",
       "      <td>Utility Plumber</td>\n",
       "      <td>0.00</td>\n",
       "      <td>0.00</td>\n",
       "      <td>24.52</td>\n",
       "      <td>0.00</td>\n",
       "      <td>24.52</td>\n",
       "      <td>24.52</td>\n",
       "      <td>2014</td>\n",
       "      <td>NaN</td>\n",
       "      <td>San Francisco</td>\n",
       "      <td>PT</td>\n",
       "    </tr>\n",
       "    <tr>\n",
       "      <th>148616</th>\n",
       "      <td>148617</td>\n",
       "      <td>None</td>\n",
       "      <td>Afakasi O Afakasi</td>\n",
       "      <td>Public Service Trainee</td>\n",
       "      <td>21.48</td>\n",
       "      <td>0.00</td>\n",
       "      <td>0.86</td>\n",
       "      <td>0.22</td>\n",
       "      <td>22.34</td>\n",
       "      <td>22.56</td>\n",
       "      <td>2014</td>\n",
       "      <td>NaN</td>\n",
       "      <td>San Francisco</td>\n",
       "      <td>PT</td>\n",
       "    </tr>\n",
       "    <tr>\n",
       "      <th>148617</th>\n",
       "      <td>148618</td>\n",
       "      <td>None</td>\n",
       "      <td>Charles F Williams Iii</td>\n",
       "      <td>Pool Lifeguard</td>\n",
       "      <td>17.26</td>\n",
       "      <td>0.00</td>\n",
       "      <td>0.00</td>\n",
       "      <td>4.04</td>\n",
       "      <td>17.26</td>\n",
       "      <td>21.30</td>\n",
       "      <td>2014</td>\n",
       "      <td>NaN</td>\n",
       "      <td>San Francisco</td>\n",
       "      <td>PT</td>\n",
       "    </tr>\n",
       "    <tr>\n",
       "      <th>148619</th>\n",
       "      <td>148620</td>\n",
       "      <td>None</td>\n",
       "      <td>Ian V Cameron</td>\n",
       "      <td>IS Program Analyst-Assistant</td>\n",
       "      <td>6.04</td>\n",
       "      <td>0.00</td>\n",
       "      <td>10.05</td>\n",
       "      <td>2.30</td>\n",
       "      <td>16.09</td>\n",
       "      <td>18.39</td>\n",
       "      <td>2014</td>\n",
       "      <td>NaN</td>\n",
       "      <td>San Francisco</td>\n",
       "      <td>PT</td>\n",
       "    </tr>\n",
       "    <tr>\n",
       "      <th>148620</th>\n",
       "      <td>148621</td>\n",
       "      <td>None</td>\n",
       "      <td>India C Sabater</td>\n",
       "      <td>Recreation Leader</td>\n",
       "      <td>15.50</td>\n",
       "      <td>0.00</td>\n",
       "      <td>0.00</td>\n",
       "      <td>0.16</td>\n",
       "      <td>15.50</td>\n",
       "      <td>15.66</td>\n",
       "      <td>2014</td>\n",
       "      <td>NaN</td>\n",
       "      <td>San Francisco</td>\n",
       "      <td>PT</td>\n",
       "    </tr>\n",
       "    <tr>\n",
       "      <th>148629</th>\n",
       "      <td>148630</td>\n",
       "      <td>None</td>\n",
       "      <td>Elizabeth Iniguez</td>\n",
       "      <td>Transcriber Typist</td>\n",
       "      <td>0.00</td>\n",
       "      <td>0.00</td>\n",
       "      <td>0.00</td>\n",
       "      <td>0.00</td>\n",
       "      <td>0.00</td>\n",
       "      <td>0.00</td>\n",
       "      <td>2014</td>\n",
       "      <td>NaN</td>\n",
       "      <td>San Francisco</td>\n",
       "      <td>PT</td>\n",
       "    </tr>\n",
       "    <tr>\n",
       "      <th>148630</th>\n",
       "      <td>148631</td>\n",
       "      <td>None</td>\n",
       "      <td>Randy J Keys</td>\n",
       "      <td>Carpenter</td>\n",
       "      <td>0.00</td>\n",
       "      <td>0.00</td>\n",
       "      <td>0.00</td>\n",
       "      <td>0.00</td>\n",
       "      <td>0.00</td>\n",
       "      <td>0.00</td>\n",
       "      <td>2014</td>\n",
       "      <td>NaN</td>\n",
       "      <td>San Francisco</td>\n",
       "      <td>PT</td>\n",
       "    </tr>\n",
       "    <tr>\n",
       "      <th>148631</th>\n",
       "      <td>148632</td>\n",
       "      <td>None</td>\n",
       "      <td>Andre M Johnson</td>\n",
       "      <td>Communications Dispatcher 1</td>\n",
       "      <td>0.00</td>\n",
       "      <td>0.00</td>\n",
       "      <td>0.00</td>\n",
       "      <td>0.00</td>\n",
       "      <td>0.00</td>\n",
       "      <td>0.00</td>\n",
       "      <td>2014</td>\n",
       "      <td>NaN</td>\n",
       "      <td>San Francisco</td>\n",
       "      <td>PT</td>\n",
       "    </tr>\n",
       "    <tr>\n",
       "      <th>148632</th>\n",
       "      <td>148633</td>\n",
       "      <td>None</td>\n",
       "      <td>Sharon D Owens-Webster</td>\n",
       "      <td>Protective Services Worker</td>\n",
       "      <td>0.00</td>\n",
       "      <td>0.00</td>\n",
       "      <td>0.00</td>\n",
       "      <td>0.00</td>\n",
       "      <td>0.00</td>\n",
       "      <td>0.00</td>\n",
       "      <td>2014</td>\n",
       "      <td>NaN</td>\n",
       "      <td>San Francisco</td>\n",
       "      <td>PT</td>\n",
       "    </tr>\n",
       "    <tr>\n",
       "      <th>148636</th>\n",
       "      <td>148637</td>\n",
       "      <td>None</td>\n",
       "      <td>Andrew J Enzi</td>\n",
       "      <td>Arborist Technician</td>\n",
       "      <td>0.00</td>\n",
       "      <td>0.00</td>\n",
       "      <td>0.00</td>\n",
       "      <td>0.00</td>\n",
       "      <td>0.00</td>\n",
       "      <td>0.00</td>\n",
       "      <td>2014</td>\n",
       "      <td>NaN</td>\n",
       "      <td>San Francisco</td>\n",
       "      <td>PT</td>\n",
       "    </tr>\n",
       "    <tr>\n",
       "      <th>148638</th>\n",
       "      <td>148639</td>\n",
       "      <td>None</td>\n",
       "      <td>Lennard B Hutchinson</td>\n",
       "      <td>Electrician</td>\n",
       "      <td>0.00</td>\n",
       "      <td>0.00</td>\n",
       "      <td>0.00</td>\n",
       "      <td>0.00</td>\n",
       "      <td>0.00</td>\n",
       "      <td>0.00</td>\n",
       "      <td>2014</td>\n",
       "      <td>NaN</td>\n",
       "      <td>San Francisco</td>\n",
       "      <td>PT</td>\n",
       "    </tr>\n",
       "    <tr>\n",
       "      <th>148641</th>\n",
       "      <td>148642</td>\n",
       "      <td>None</td>\n",
       "      <td>Raphael Marquis Goins</td>\n",
       "      <td>Museum Guard</td>\n",
       "      <td>0.00</td>\n",
       "      <td>0.00</td>\n",
       "      <td>0.00</td>\n",
       "      <td>0.00</td>\n",
       "      <td>0.00</td>\n",
       "      <td>0.00</td>\n",
       "      <td>2014</td>\n",
       "      <td>NaN</td>\n",
       "      <td>San Francisco</td>\n",
       "      <td>PT</td>\n",
       "    </tr>\n",
       "    <tr>\n",
       "      <th>148642</th>\n",
       "      <td>148643</td>\n",
       "      <td>None</td>\n",
       "      <td>Dominic C Marquez</td>\n",
       "      <td>Sign Worker</td>\n",
       "      <td>0.00</td>\n",
       "      <td>0.00</td>\n",
       "      <td>0.00</td>\n",
       "      <td>0.00</td>\n",
       "      <td>0.00</td>\n",
       "      <td>0.00</td>\n",
       "      <td>2014</td>\n",
       "      <td>NaN</td>\n",
       "      <td>San Francisco</td>\n",
       "      <td>PT</td>\n",
       "    </tr>\n",
       "    <tr>\n",
       "      <th>148644</th>\n",
       "      <td>148645</td>\n",
       "      <td>None</td>\n",
       "      <td>Randy D Winn</td>\n",
       "      <td>Stationary Eng, Sewage Plant</td>\n",
       "      <td>0.00</td>\n",
       "      <td>0.00</td>\n",
       "      <td>0.00</td>\n",
       "      <td>0.00</td>\n",
       "      <td>0.00</td>\n",
       "      <td>0.00</td>\n",
       "      <td>2014</td>\n",
       "      <td>NaN</td>\n",
       "      <td>San Francisco</td>\n",
       "      <td>PT</td>\n",
       "    </tr>\n",
       "    <tr>\n",
       "      <th>148645</th>\n",
       "      <td>148646</td>\n",
       "      <td>None</td>\n",
       "      <td>Carolyn A Wilson</td>\n",
       "      <td>Human Services Technician</td>\n",
       "      <td>0.00</td>\n",
       "      <td>0.00</td>\n",
       "      <td>0.00</td>\n",
       "      <td>0.00</td>\n",
       "      <td>0.00</td>\n",
       "      <td>0.00</td>\n",
       "      <td>2014</td>\n",
       "      <td>NaN</td>\n",
       "      <td>San Francisco</td>\n",
       "      <td>PT</td>\n",
       "    </tr>\n",
       "    <tr>\n",
       "      <th>148646</th>\n",
       "      <td>148648</td>\n",
       "      <td>None</td>\n",
       "      <td>Joann Anderson</td>\n",
       "      <td>Communications Dispatcher 2</td>\n",
       "      <td>0.00</td>\n",
       "      <td>0.00</td>\n",
       "      <td>0.00</td>\n",
       "      <td>0.00</td>\n",
       "      <td>0.00</td>\n",
       "      <td>0.00</td>\n",
       "      <td>2014</td>\n",
       "      <td>NaN</td>\n",
       "      <td>San Francisco</td>\n",
       "      <td>PT</td>\n",
       "    </tr>\n",
       "    <tr>\n",
       "      <th>148649</th>\n",
       "      <td>148654</td>\n",
       "      <td>None</td>\n",
       "      <td>Joe Lopez</td>\n",
       "      <td>Counselor, Log Cabin Ranch</td>\n",
       "      <td>0.00</td>\n",
       "      <td>0.00</td>\n",
       "      <td>-618.13</td>\n",
       "      <td>0.00</td>\n",
       "      <td>-618.13</td>\n",
       "      <td>-618.13</td>\n",
       "      <td>2014</td>\n",
       "      <td>NaN</td>\n",
       "      <td>San Francisco</td>\n",
       "      <td>PT</td>\n",
       "    </tr>\n",
       "  </tbody>\n",
       "</table>\n",
       "<p>58264 rows × 14 columns</p>\n",
       "</div>"
      ],
      "text/plain": [
       "            Id JobType                EmployeeName  \\\n",
       "5            6    None              DAVID SULLIVAN   \n",
       "7            8    None               DAVID KUSHNER   \n",
       "12          13    None           EDWARD HARRINGTON   \n",
       "13          14    None                 JOHN MARTIN   \n",
       "16          17    None                    AMY HART   \n",
       "30          31    None             HARLAN KELLY-JR   \n",
       "32          33    None                 GARY AMELIO   \n",
       "35          36    None                  KHOA TRINH   \n",
       "47          48    None                TRENT RHORER   \n",
       "51          52    None              BARBARA GARCIA   \n",
       "56          57    None         BENJAMIN ROSENFIELD   \n",
       "57          58    None                MARK KEARNEY   \n",
       "58          59    None                DOUGLAS RIBA   \n",
       "69          70    None                   WING CHAN   \n",
       "73          74    None               MONIQUE MOYER   \n",
       "87          88    None                 KEVIN BARRY   \n",
       "95          96    None                MIVIC HIROSE   \n",
       "99         100    None                 SONALI BOSE   \n",
       "112        113    None               JOHN HALEY JR   \n",
       "116        117    None                JACKSON WONG   \n",
       "132        133    None                 JOHN RAHAIM   \n",
       "136        137    None               NIKOLAS LEMOS   \n",
       "137        138    None              MICHAEL CARLIN   \n",
       "159        160    None               DEBRA JOHNSON   \n",
       "162        163    None               JULIE LABONTE   \n",
       "177        178    None                HARVEY ELWIN   \n",
       "182        183    None            SUSAN BUCHBINDER   \n",
       "185        186    None                  JOHN BROWN   \n",
       "188        189    None                LUIS HERRERA   \n",
       "205        206    None               COLLEEN RILEY   \n",
       "...        ...     ...                         ...   \n",
       "148593  148594    None           Lourdes Rodriguez   \n",
       "148595  148596    None          Robert B Woodville   \n",
       "148598  148599    None           Richard E Aicardi   \n",
       "148599  148600    None             Thomas A Harris   \n",
       "148600  148601    None                 Kim L Evans   \n",
       "148601  148602    None           Brieanna Mcfadden   \n",
       "148602  148603    None           Trayvonte T Britt   \n",
       "148603  148604    None          Elizabeth Williams   \n",
       "148604  148605    None              Sugyn M Paynay   \n",
       "148606  148607    None               Randall Cinti   \n",
       "148607  148608    None           Gary C Schoenfeld   \n",
       "148609  148610    None              Tucker L Silva   \n",
       "148611  148612    None  Patricia M Mackey-Williams   \n",
       "148612  148613    None            Kermith T Miller   \n",
       "148616  148617    None           Afakasi O Afakasi   \n",
       "148617  148618    None      Charles F Williams Iii   \n",
       "148619  148620    None               Ian V Cameron   \n",
       "148620  148621    None             India C Sabater   \n",
       "148629  148630    None           Elizabeth Iniguez   \n",
       "148630  148631    None                Randy J Keys   \n",
       "148631  148632    None             Andre M Johnson   \n",
       "148632  148633    None      Sharon D Owens-Webster   \n",
       "148636  148637    None               Andrew J Enzi   \n",
       "148638  148639    None        Lennard B Hutchinson   \n",
       "148641  148642    None       Raphael Marquis Goins   \n",
       "148642  148643    None           Dominic C Marquez   \n",
       "148644  148645    None                Randy D Winn   \n",
       "148645  148646    None            Carolyn A Wilson   \n",
       "148646  148648    None              Joann Anderson   \n",
       "148649  148654    None                   Joe Lopez   \n",
       "\n",
       "                                                JobTitle    BasePay  \\\n",
       "5                              ASSISTANT DEPUTY CHIEF II  118602.00   \n",
       "7                         DEPUTY DIRECTOR OF INVESTMENTS  256576.96   \n",
       "12                           EXECUTIVE CONTRACT EMPLOYEE  294580.02   \n",
       "13                                     DEPARTMENT HEAD V  271329.03   \n",
       "16                                     DEPARTMENT HEAD V  268604.57   \n",
       "30                           EXECUTIVE CONTRACT EMPLOYEE  234325.02   \n",
       "32                                     DEPARTMENT HEAD V  248895.70   \n",
       "35                     ELECTRONIC MAINTENANCE TECHNICIAN  101953.20   \n",
       "47                                     DEPARTMENT HEAD V  248895.77   \n",
       "51                                     DEPARTMENT HEAD V  246305.62   \n",
       "56                                     DEPARTMENT HEAD V  240731.93   \n",
       "57                             ASSISTANT DEPUTY CHIEF II  217410.80   \n",
       "58                           INCIDENT SUPPORT SPECIALIST  115381.02   \n",
       "69                           INCIDENT SUPPORT SPECIALIST  115455.44   \n",
       "73                                         PORT DIRECTOR  233357.28   \n",
       "87                                           MANAGER VII   96814.36   \n",
       "95                                          MANAGER VIII  215180.76   \n",
       "99      DEPUTY DIRECTOR II - MUNICIPAL TRANSPORTATION AG  224035.85   \n",
       "112     DEPUTY DIRECTOR II - MUNICIPAL TRANSPORTATION AG  220115.22   \n",
       "116                                    DEPUTY DIRECTOR V  219804.34   \n",
       "132                                   DEPARTMENT HEAD IV  215799.48   \n",
       "136                                FORENSIC TOXICOLOGIST  182368.79   \n",
       "137                                    DEPUTY DIRECTOR V  215180.75   \n",
       "159     DEPUTY DIRECTOR II - MUNICIPAL TRANSPORTATION AG  210821.61   \n",
       "162                                         MANAGER VIII  207501.20   \n",
       "177                                         MANAGER VIII  200385.64   \n",
       "182                                         MANAGER VIII  207874.94   \n",
       "185                                         MANAGER VIII  207798.79   \n",
       "188                                   DEPARTMENT HEAD IV  207699.73   \n",
       "205                                         MANAGER VIII  205609.58   \n",
       "...                                                  ...        ...   \n",
       "148593                        Protective Services Worker       0.00   \n",
       "148595                                 Recreation Leader      40.28   \n",
       "148598                                 Recreation Leader      37.25   \n",
       "148599                                 Recreation Leader      37.25   \n",
       "148600                                 Recreation Leader      37.23   \n",
       "148601                                 Recreation Leader      34.88   \n",
       "148602                                 Recreation Leader      34.75   \n",
       "148603                                Physical Therapist       0.00   \n",
       "148604                        Publ Svc Aide-Asst to Prof      34.03   \n",
       "148606                             School Crossing Guard      31.75   \n",
       "148607                                    Pool Lifeguard      31.43   \n",
       "148609                                    Pool Lifeguard      26.94   \n",
       "148611                            Patient Care Assistant       0.00   \n",
       "148612                                   Utility Plumber       0.00   \n",
       "148616                            Public Service Trainee      21.48   \n",
       "148617                                    Pool Lifeguard      17.26   \n",
       "148619                      IS Program Analyst-Assistant       6.04   \n",
       "148620                                 Recreation Leader      15.50   \n",
       "148629                                Transcriber Typist       0.00   \n",
       "148630                                         Carpenter       0.00   \n",
       "148631                       Communications Dispatcher 1       0.00   \n",
       "148632                        Protective Services Worker       0.00   \n",
       "148636                               Arborist Technician       0.00   \n",
       "148638                                       Electrician       0.00   \n",
       "148641                                      Museum Guard       0.00   \n",
       "148642                                       Sign Worker       0.00   \n",
       "148644                      Stationary Eng, Sewage Plant       0.00   \n",
       "148645                         Human Services Technician       0.00   \n",
       "148646                       Communications Dispatcher 2       0.00   \n",
       "148649                        Counselor, Log Cabin Ranch       0.00   \n",
       "\n",
       "        OvertimePay   OtherPay  Benefits   TotalPay  TotalPayBenefits  Year  \\\n",
       "5           8601.00  189082.74       NaN  316285.74         316285.74  2011   \n",
       "7              0.00   51322.50       NaN  307899.46         307899.46  2011   \n",
       "12             0.00       0.00       NaN  294580.02         294580.02  2011   \n",
       "13             0.00   21342.59       NaN  292671.62         292671.62  2011   \n",
       "16             0.00   16115.86       NaN  284720.43         284720.43  2011   \n",
       "30             0.00   25972.64       NaN  260297.66         260297.66  2011   \n",
       "32             0.00   10789.18       NaN  259684.88         259684.88  2011   \n",
       "35        139102.95   16483.94       NaN  257540.09         257540.09  2011   \n",
       "47             0.00       0.00       NaN  248895.77         248895.77  2011   \n",
       "51             0.00       0.00       NaN  246305.62         246305.62  2011   \n",
       "56             0.00     114.37       NaN  240846.30         240846.30  2011   \n",
       "57             0.00   22608.30       NaN  240019.10         240019.10  2011   \n",
       "58        105028.94   19016.40       NaN  239426.36         239426.36  2011   \n",
       "69        104632.95   14776.81       NaN  234865.20         234865.20  2011   \n",
       "73             0.00       0.00       NaN  233357.28         233357.28  2011   \n",
       "87             0.00  133563.47       NaN  230377.83         230377.83  2011   \n",
       "95             0.00   12000.00       NaN  227180.76         227180.76  2011   \n",
       "99             0.00       0.00       NaN  224035.85         224035.85  2011   \n",
       "112            0.00     237.00       NaN  220352.22         220352.22  2011   \n",
       "116            0.00       0.00       NaN  219804.34         219804.34  2011   \n",
       "132            0.00       0.00       NaN  215799.48         215799.48  2011   \n",
       "136            0.00   32949.41       NaN  215318.20         215318.20  2011   \n",
       "137            0.00       0.00       NaN  215180.75         215180.75  2011   \n",
       "159            0.00       0.00       NaN  210821.61         210821.61  2011   \n",
       "162            0.00    2903.37       NaN  210404.57         210404.57  2011   \n",
       "177            0.00    8000.00       NaN  208385.64         208385.64  2011   \n",
       "182            0.00       0.00       NaN  207874.94         207874.94  2011   \n",
       "185            0.00       0.00       NaN  207798.79         207798.79  2011   \n",
       "188            0.00       0.00       NaN  207699.73         207699.73  2011   \n",
       "205            0.00       0.00       NaN  205609.58         205609.58  2011   \n",
       "...             ...        ...       ...        ...               ...   ...   \n",
       "148593         0.00      43.50      0.00      43.50             43.50  2014   \n",
       "148595         0.00       0.00      0.40      40.28             40.68  2014   \n",
       "148598         0.00       0.00      0.37      37.25             37.62  2014   \n",
       "148599         0.00       0.00      0.37      37.25             37.62  2014   \n",
       "148600         0.00       0.00      0.37      37.23             37.60  2014   \n",
       "148601         0.00       0.00      0.35      34.88             35.23  2014   \n",
       "148602         0.00       0.00      0.35      34.75             35.10  2014   \n",
       "148603         0.00      34.64      0.00      34.64             34.64  2014   \n",
       "148604         0.00       0.00      0.34      34.03             34.37  2014   \n",
       "148606         0.00       0.00      0.32      31.75             32.07  2014   \n",
       "148607         0.00       0.00      0.31      31.43             31.74  2014   \n",
       "148609         0.00       0.00      0.27      26.94             27.21  2014   \n",
       "148611         0.00      25.57      0.00      25.57             25.57  2014   \n",
       "148612         0.00      24.52      0.00      24.52             24.52  2014   \n",
       "148616         0.00       0.86      0.22      22.34             22.56  2014   \n",
       "148617         0.00       0.00      4.04      17.26             21.30  2014   \n",
       "148619         0.00      10.05      2.30      16.09             18.39  2014   \n",
       "148620         0.00       0.00      0.16      15.50             15.66  2014   \n",
       "148629         0.00       0.00      0.00       0.00              0.00  2014   \n",
       "148630         0.00       0.00      0.00       0.00              0.00  2014   \n",
       "148631         0.00       0.00      0.00       0.00              0.00  2014   \n",
       "148632         0.00       0.00      0.00       0.00              0.00  2014   \n",
       "148636         0.00       0.00      0.00       0.00              0.00  2014   \n",
       "148638         0.00       0.00      0.00       0.00              0.00  2014   \n",
       "148641         0.00       0.00      0.00       0.00              0.00  2014   \n",
       "148642         0.00       0.00      0.00       0.00              0.00  2014   \n",
       "148644         0.00       0.00      0.00       0.00              0.00  2014   \n",
       "148645         0.00       0.00      0.00       0.00              0.00  2014   \n",
       "148646         0.00       0.00      0.00       0.00              0.00  2014   \n",
       "148649         0.00    -618.13      0.00    -618.13           -618.13  2014   \n",
       "\n",
       "        Notes         Agency Status  \n",
       "5         NaN  San Francisco    NaN  \n",
       "7         NaN  San Francisco    NaN  \n",
       "12        NaN  San Francisco    NaN  \n",
       "13        NaN  San Francisco    NaN  \n",
       "16        NaN  San Francisco    NaN  \n",
       "30        NaN  San Francisco    NaN  \n",
       "32        NaN  San Francisco    NaN  \n",
       "35        NaN  San Francisco    NaN  \n",
       "47        NaN  San Francisco    NaN  \n",
       "51        NaN  San Francisco    NaN  \n",
       "56        NaN  San Francisco    NaN  \n",
       "57        NaN  San Francisco    NaN  \n",
       "58        NaN  San Francisco    NaN  \n",
       "69        NaN  San Francisco    NaN  \n",
       "73        NaN  San Francisco    NaN  \n",
       "87        NaN  San Francisco    NaN  \n",
       "95        NaN  San Francisco    NaN  \n",
       "99        NaN  San Francisco    NaN  \n",
       "112       NaN  San Francisco    NaN  \n",
       "116       NaN  San Francisco    NaN  \n",
       "132       NaN  San Francisco    NaN  \n",
       "136       NaN  San Francisco    NaN  \n",
       "137       NaN  San Francisco    NaN  \n",
       "159       NaN  San Francisco    NaN  \n",
       "162       NaN  San Francisco    NaN  \n",
       "177       NaN  San Francisco    NaN  \n",
       "182       NaN  San Francisco    NaN  \n",
       "185       NaN  San Francisco    NaN  \n",
       "188       NaN  San Francisco    NaN  \n",
       "205       NaN  San Francisco    NaN  \n",
       "...       ...            ...    ...  \n",
       "148593    NaN  San Francisco     PT  \n",
       "148595    NaN  San Francisco     PT  \n",
       "148598    NaN  San Francisco     PT  \n",
       "148599    NaN  San Francisco     PT  \n",
       "148600    NaN  San Francisco     PT  \n",
       "148601    NaN  San Francisco     PT  \n",
       "148602    NaN  San Francisco     PT  \n",
       "148603    NaN  San Francisco     PT  \n",
       "148604    NaN  San Francisco     PT  \n",
       "148606    NaN  San Francisco     PT  \n",
       "148607    NaN  San Francisco     PT  \n",
       "148609    NaN  San Francisco     PT  \n",
       "148611    NaN  San Francisco     PT  \n",
       "148612    NaN  San Francisco     PT  \n",
       "148616    NaN  San Francisco     PT  \n",
       "148617    NaN  San Francisco     PT  \n",
       "148619    NaN  San Francisco     PT  \n",
       "148620    NaN  San Francisco     PT  \n",
       "148629    NaN  San Francisco     PT  \n",
       "148630    NaN  San Francisco     PT  \n",
       "148631    NaN  San Francisco     PT  \n",
       "148632    NaN  San Francisco     PT  \n",
       "148636    NaN  San Francisco     PT  \n",
       "148638    NaN  San Francisco     PT  \n",
       "148641    NaN  San Francisco     PT  \n",
       "148642    NaN  San Francisco     PT  \n",
       "148644    NaN  San Francisco     PT  \n",
       "148645    NaN  San Francisco     PT  \n",
       "148646    NaN  San Francisco     PT  \n",
       "148649    NaN  San Francisco     PT  \n",
       "\n",
       "[58264 rows x 14 columns]"
      ]
     },
     "execution_count": 16,
     "metadata": {},
     "output_type": "execute_result"
    }
   ],
   "source": [
    "sfdf2[sfdf2['JobType'].isnull()]"
   ]
  },
  {
   "cell_type": "code",
   "execution_count": 12,
   "metadata": {
    "collapsed": false
   },
   "outputs": [],
   "source": [
    "# Replacing Nulls in Grouped Job Type with Job Title\n",
    "nulljobtypeindex = sfdf2[sfdf2['JobType'].isnull()].index"
   ]
  },
  {
   "cell_type": "code",
   "execution_count": 13,
   "metadata": {
    "collapsed": false
   },
   "outputs": [],
   "source": [
    "sfdf2.loc[nulljobtypeindex,'JobType'] = sfdf2['JobTitle']"
   ]
  },
  {
   "cell_type": "code",
   "execution_count": 14,
   "metadata": {
    "collapsed": false
   },
   "outputs": [
    {
     "data": {
      "text/plain": [
       "Id                                          6\n",
       "JobType             ASSISTANT DEPUTY CHIEF II\n",
       "EmployeeName                   DAVID SULLIVAN\n",
       "JobTitle            ASSISTANT DEPUTY CHIEF II\n",
       "BasePay                                118602\n",
       "OvertimePay                              8601\n",
       "OtherPay                             189082.7\n",
       "Benefits                                  NaN\n",
       "TotalPay                             316285.7\n",
       "TotalPayBenefits                     316285.7\n",
       "Year                                     2011\n",
       "Notes                                     NaN\n",
       "Agency                          San Francisco\n",
       "Status                                    NaN\n",
       "Name: 5, dtype: object"
      ]
     },
     "execution_count": 14,
     "metadata": {},
     "output_type": "execute_result"
    }
   ],
   "source": [
    "sfdf2.ix[5]"
   ]
  },
  {
   "cell_type": "code",
   "execution_count": 27,
   "metadata": {
    "collapsed": false
   },
   "outputs": [
    {
     "data": {
      "text/plain": [
       "Id                                               8\n",
       "JobType             DEPUTY DIRECTOR OF INVESTMENTS\n",
       "EmployeeName                         DAVID KUSHNER\n",
       "JobTitle            DEPUTY DIRECTOR OF INVESTMENTS\n",
       "BasePay                                     256577\n",
       "OvertimePay                                      0\n",
       "OtherPay                                   51322.5\n",
       "Benefits                                       NaN\n",
       "TotalPay                                  307899.5\n",
       "TotalPayBenefits                          307899.5\n",
       "Year                                          2011\n",
       "Notes                                          NaN\n",
       "Agency                               San Francisco\n",
       "Status                                         NaN\n",
       "Name: 7, dtype: object"
      ]
     },
     "execution_count": 27,
     "metadata": {},
     "output_type": "execute_result"
    }
   ],
   "source": [
    "sfdf2.ix[7]"
   ]
  },
  {
   "cell_type": "code",
   "execution_count": 15,
   "metadata": {
    "collapsed": false
   },
   "outputs": [],
   "source": [
    "# imputing Base Pay with Mean of BasePay\n",
    "sfdf2['BasePay'] = sfdf2['BasePay'].fillna(sfdf2['BasePay'].mean())"
   ]
  },
  {
   "cell_type": "code",
   "execution_count": 21,
   "metadata": {
    "collapsed": false
   },
   "outputs": [
    {
     "data": {
      "text/plain": [
       "66325.44884050523"
      ]
     },
     "execution_count": 21,
     "metadata": {},
     "output_type": "execute_result"
    }
   ],
   "source": [
    "sfdf2['BasePay'].mean()"
   ]
  },
  {
   "cell_type": "code",
   "execution_count": 51,
   "metadata": {
    "collapsed": false
   },
   "outputs": [
    {
     "data": {
      "text/plain": [
       "<matplotlib.axes._subplots.AxesSubplot at 0x2ecf3390>"
      ]
     },
     "execution_count": 51,
     "metadata": {},
     "output_type": "execute_result"
    },
    {
     "data": {
      "image/png": "[encoded data removed]",
      "text/plain": [
       "<matplotlib.figure.Figure at 0x2ee5d240>"
      ]
     },
     "metadata": {},
     "output_type": "display_data"
    }
   ],
   "source": [
    "sfdf2['BasePay'].hist(bins = 1000)"
   ]
  },
  {
   "cell_type": "code",
   "execution_count": 16,
   "metadata": {
    "collapsed": false
   },
   "outputs": [
    {
     "data": {
      "text/plain": [
       "Id                       0\n",
       "JobType                  0\n",
       "EmployeeName             0\n",
       "JobTitle                 0\n",
       "BasePay                  0\n",
       "OvertimePay              0\n",
       "OtherPay                 0\n",
       "Benefits             36159\n",
       "TotalPay                 0\n",
       "TotalPayBenefits         0\n",
       "Year                     0\n",
       "Notes               148650\n",
       "Agency                   0\n",
       "Status              110531\n",
       "dtype: int64"
      ]
     },
     "execution_count": 16,
     "metadata": {},
     "output_type": "execute_result"
    }
   ],
   "source": [
    "sfdf2.apply(lambda x: sum(x.isnull()))"
   ]
  },
  {
   "cell_type": "code",
   "execution_count": 51,
   "metadata": {
    "collapsed": false
   },
   "outputs": [
    {
     "name": "stdout",
     "output_type": "stream",
     "text": [
      "<class 'pandas.core.frame.DataFrame'>\n",
      "Int64Index: 148650 entries, 0 to 148649\n",
      "Data columns (total 14 columns):\n",
      "Id                  148650 non-null int64\n",
      "JobType             148650 non-null object\n",
      "EmployeeName        148650 non-null object\n",
      "JobTitle            148650 non-null object\n",
      "BasePay             148650 non-null float64\n",
      "OvertimePay         148650 non-null float64\n",
      "OtherPay            148650 non-null float64\n",
      "Benefits            112491 non-null float64\n",
      "TotalPay            148650 non-null float64\n",
      "TotalPayBenefits    148650 non-null float64\n",
      "Year                148650 non-null int64\n",
      "Notes               0 non-null float64\n",
      "Agency              148650 non-null object\n",
      "Status              38119 non-null object\n",
      "dtypes: float64(7), int64(2), object(5)\n",
      "memory usage: 17.0+ MB\n"
     ]
    }
   ],
   "source": [
    "sfdf2.info()"
   ]
  },
  {
   "cell_type": "code",
   "execution_count": 20,
   "metadata": {
    "collapsed": false
   },
   "outputs": [
    {
     "data": {
      "text/plain": [
       "<matplotlib.axes._subplots.AxesSubplot at 0x1f20b390>"
      ]
     },
     "execution_count": 20,
     "metadata": {},
     "output_type": "execute_result"
    },
    {
     "data": {
      "image/png": "[encoded data removed]",
      "text/plain": [
       "<matplotlib.figure.Figure at 0x1f20b1d0>"
      ]
     },
     "metadata": {},
     "output_type": "display_data"
    }
   ],
   "source": [
    "sfdf2['Benefits'].hist(bins=700)"
   ]
  },
  {
   "cell_type": "code",
   "execution_count": 17,
   "metadata": {
    "collapsed": true
   },
   "outputs": [],
   "source": [
    "# imputing Benefits\n",
    "sfdf2['Benefits'] = sfdf2['Benefits'].fillna(sfdf2['Benefits'].mean())"
   ]
  },
  {
   "cell_type": "code",
   "execution_count": 18,
   "metadata": {
    "collapsed": false
   },
   "outputs": [
    {
     "data": {
      "text/plain": [
       "<matplotlib.axes._subplots.AxesSubplot at 0xc152588>"
      ]
     },
     "execution_count": 18,
     "metadata": {},
     "output_type": "execute_result"
    },
    {
     "data": {
      "image/png": "[encoded data removed]",
      "text/plain": [
       "<matplotlib.figure.Figure at 0x104318d0>"
      ]
     },
     "metadata": {},
     "output_type": "display_data"
    }
   ],
   "source": [
    "sfdf2['Benefits'].hist(bins=70)"
   ]
  },
  {
   "cell_type": "code",
   "execution_count": 24,
   "metadata": {
    "collapsed": false
   },
   "outputs": [
    {
     "data": {
      "text/plain": [
       "Id                       0\n",
       "JobType                  0\n",
       "EmployeeName             0\n",
       "JobTitle                 0\n",
       "BasePay                  0\n",
       "OvertimePay              0\n",
       "OtherPay                 0\n",
       "Benefits                 0\n",
       "TotalPay                 0\n",
       "TotalPayBenefits         0\n",
       "Year                     0\n",
       "Notes               148650\n",
       "Agency                   0\n",
       "Status              110531\n",
       "dtype: int64"
      ]
     },
     "execution_count": 24,
     "metadata": {},
     "output_type": "execute_result"
    }
   ],
   "source": [
    "sfdf2.apply(lambda x: sum(x.isnull()))"
   ]
  },
  {
   "cell_type": "markdown",
   "metadata": {},
   "source": [
    "<h4>Predictions with SkLearn</h4>"
   ]
  },
  {
   "cell_type": "code",
   "execution_count": 19,
   "metadata": {
    "collapsed": true
   },
   "outputs": [],
   "source": [
    "from sklearn.preprocessing import LabelEncoder"
   ]
  },
  {
   "cell_type": "code",
   "execution_count": 20,
   "metadata": {
    "collapsed": false
   },
   "outputs": [
    {
     "name": "stderr",
     "output_type": "stream",
     "text": [
      "C:\\Users\\mtare\\AppData\\Local\\Continuum\\Anaconda\\lib\\site-packages\\numpy\\lib\\arraysetops.py:198: FutureWarning: numpy not_equal will not check object identity in the future. The comparison did not return the same result as suggested by the identity (`is`)) and will change.\n",
      "  flag = np.concatenate(([True], aux[1:] != aux[:-1]))\n"
     ]
    }
   ],
   "source": [
    "cat_var_list = list(sfdf2.dtypes.loc[sfdf2.dtypes == 'object'].index)\n",
    "le = LabelEncoder()\n",
    "for var in cat_var_list:\n",
    "    sfdf2[var] = le.fit_transform(sfdf2[var])"
   ]
  },
  {
   "cell_type": "code",
   "execution_count": 21,
   "metadata": {
    "collapsed": false
   },
   "outputs": [
    {
     "data": {
      "text/plain": [
       "Id                    int64\n",
       "JobType               int32\n",
       "EmployeeName          int32\n",
       "JobTitle              int32\n",
       "BasePay             float64\n",
       "OvertimePay         float64\n",
       "OtherPay            float64\n",
       "Benefits            float64\n",
       "TotalPay            float64\n",
       "TotalPayBenefits    float64\n",
       "Year                  int64\n",
       "Notes               float64\n",
       "Agency                int32\n",
       "Status                int32\n",
       "dtype: object"
      ]
     },
     "execution_count": 21,
     "metadata": {},
     "output_type": "execute_result"
    }
   ],
   "source": [
    "sfdf2.dtypes"
   ]
  },
  {
   "cell_type": "code",
   "execution_count": 22,
   "metadata": {
    "collapsed": true
   },
   "outputs": [],
   "source": [
    "# Splitting the Data into train and Test\n",
    "import pandas as pd\n",
    "import numpy as np\n",
    "from sklearn.cross_validation import train_test_split\n",
    "\n",
    "train, test = train_test_split(sfdf2, test_size = 0.4)"
   ]
  },
  {
   "cell_type": "code",
   "execution_count": 27,
   "metadata": {
    "collapsed": false
   },
   "outputs": [
    {
     "name": "stdout",
     "output_type": "stream",
     "text": [
      "<class 'pandas.core.frame.DataFrame'>\n",
      "Int64Index: 14865 entries, 102423 to 67144\n",
      "Data columns (total 14 columns):\n",
      "Id                  14865 non-null int64\n",
      "JobType             14865 non-null int32\n",
      "EmployeeName        14865 non-null int32\n",
      "JobTitle            14865 non-null int32\n",
      "BasePay             14865 non-null float64\n",
      "OvertimePay         14865 non-null float64\n",
      "OtherPay            14865 non-null float64\n",
      "Benefits            14865 non-null float64\n",
      "TotalPay            14865 non-null float64\n",
      "TotalPayBenefits    14865 non-null float64\n",
      "Year                14865 non-null int64\n",
      "Notes               0 non-null float64\n",
      "Agency              14865 non-null int32\n",
      "Status              14865 non-null int32\n",
      "dtypes: float64(7), int32(5), int64(2)\n",
      "memory usage: 1.4 MB\n"
     ]
    }
   ],
   "source": [
    "train.info()"
   ]
  },
  {
   "cell_type": "code",
   "execution_count": 61,
   "metadata": {
    "collapsed": false
   },
   "outputs": [
    {
     "name": "stdout",
     "output_type": "stream",
     "text": [
      "<class 'pandas.core.frame.DataFrame'>\n",
      "Int64Index: 104055 entries, 85237 to 98760\n",
      "Data columns (total 14 columns):\n",
      "Id                  104055 non-null int64\n",
      "JobType             104055 non-null int32\n",
      "EmployeeName        104055 non-null int32\n",
      "JobTitle            104055 non-null int32\n",
      "BasePay             104055 non-null float64\n",
      "OvertimePay         104055 non-null float64\n",
      "OtherPay            104055 non-null float64\n",
      "Benefits            104055 non-null float64\n",
      "TotalPay            104055 non-null float64\n",
      "TotalPayBenefits    104055 non-null float64\n",
      "Year                104055 non-null int64\n",
      "Notes               0 non-null float64\n",
      "Agency              104055 non-null int32\n",
      "Status              104055 non-null int32\n",
      "dtypes: float64(7), int32(5), int64(2)\n",
      "memory usage: 9.9 MB\n"
     ]
    }
   ],
   "source": [
    "test.info()"
   ]
  },
  {
   "cell_type": "code",
   "execution_count": 32,
   "metadata": {
    "collapsed": false
   },
   "outputs": [
    {
     "data": {
      "text/plain": [
       "DecisionTreeRegressor(criterion='mse', max_depth=None, max_features=None,\n",
       "           max_leaf_nodes=None, min_samples_leaf=100, min_samples_split=2,\n",
       "           min_weight_fraction_leaf=0.0, random_state=None,\n",
       "           splitter='best')"
      ]
     },
     "execution_count": 32,
     "metadata": {},
     "output_type": "execute_result"
    }
   ],
   "source": [
    "# Predciting the Total Pay\n",
    "from sklearn.tree import DecisionTreeRegressor\n",
    "dependent_var = 'TotalPay'\n",
    "independent_var = ['JobType','BasePay','OvertimePay','OtherPay','Benefits','TotalPayBenefits']\n",
    "model = DecisionTreeRegressor(min_samples_leaf=100,max_features=None)\n",
    "model.fit(sfdf2[independent_var],sfdf2[dependent_var])"
   ]
  },
  {
   "cell_type": "code",
   "execution_count": 33,
   "metadata": {
    "collapsed": false,
    "scrolled": true
   },
   "outputs": [],
   "source": [
    "predictions_train = model.predict(sfdf2[independent_var])"
   ]
  },
  {
   "cell_type": "code",
   "execution_count": 58,
   "metadata": {
    "collapsed": false
   },
   "outputs": [
    {
     "data": {
      "text/plain": [
       "array([ 23236.796     ,   7827.9151938 ,  79260.71907801, ...,\n",
       "        96077.42694444,  60802.09584507,  15635.62228814])"
      ]
     },
     "execution_count": 58,
     "metadata": {},
     "output_type": "execute_result"
    }
   ],
   "source": [
    "predictions_train"
   ]
  },
  {
   "cell_type": "code",
   "execution_count": 34,
   "metadata": {
    "collapsed": false
   },
   "outputs": [],
   "source": [
    "from sklearn.metrics import mean_absolute_error\n",
    "from sklearn.metrics import confusion_matrix\n",
    "from sklearn.metrics import mean_squared_error\n",
    "from sklearn.metrics import roc_auc_score"
   ]
  },
  {
   "cell_type": "code",
   "execution_count": 35,
   "metadata": {
    "collapsed": false
   },
   "outputs": [
    {
     "data": {
      "text/plain": [
       "991.82696824916093"
      ]
     },
     "execution_count": 35,
     "metadata": {},
     "output_type": "execute_result"
    }
   ],
   "source": [
    "mean_absolute_error(sfdf2[dependent_var],predictions_train)"
   ]
  },
  {
   "cell_type": "code",
   "execution_count": 37,
   "metadata": {
    "collapsed": false
   },
   "outputs": [
    {
     "data": {
      "text/plain": [
       "6117411.9923321418"
      ]
     },
     "execution_count": 37,
     "metadata": {},
     "output_type": "execute_result"
    }
   ],
   "source": [
    "mean_squared_error(sfdf2[dependent_var],predictions_train)"
   ]
  },
  {
   "cell_type": "code",
   "execution_count": 42,
   "metadata": {
    "collapsed": false
   },
   "outputs": [
    {
     "data": {
      "text/plain": [
       "RandomForestRegressor(bootstrap=True, criterion='mse', max_depth=None,\n",
       "           max_features='auto', max_leaf_nodes=None, min_samples_leaf=1,\n",
       "           min_samples_split=2, min_weight_fraction_leaf=0.0,\n",
       "           n_estimators=100, n_jobs=1, oob_score=False, random_state=None,\n",
       "           verbose=0, warm_start=False)"
      ]
     },
     "execution_count": 42,
     "metadata": {},
     "output_type": "execute_result"
    }
   ],
   "source": [
    "# Predciting the Total Pay\n",
    "from sklearn.ensemble import RandomForestRegressor\n",
    "dependent_var = 'TotalPay'\n",
    "independent_var = ['BasePay','OvertimePay','OtherPay','Benefits','TotalPayBenefits']\n",
    "model = RandomForestRegressor(n_estimators=100)\n",
    "model.fit(sfdf2[independent_var],sfdf2[dependent_var])"
   ]
  },
  {
   "cell_type": "code",
   "execution_count": 43,
   "metadata": {
    "collapsed": true
   },
   "outputs": [],
   "source": [
    "predictions_train = model.predict(sfdf2[independent_var])"
   ]
  },
  {
   "cell_type": "code",
   "execution_count": 44,
   "metadata": {
    "collapsed": false
   },
   "outputs": [
    {
     "data": {
      "text/plain": [
       "234.25594966637524"
      ]
     },
     "execution_count": 44,
     "metadata": {},
     "output_type": "execute_result"
    }
   ],
   "source": [
    "np.sqrt(mean_squared_error(sfdf2[dependent_var],predictions_train))"
   ]
  },
  {
   "cell_type": "code",
   "execution_count": 57,
   "metadata": {
    "collapsed": false
   },
   "outputs": [
    {
     "name": "stdout",
     "output_type": "stream",
     "text": [
      "[  9.67420474e-05   9.14111065e-01   5.89105139e-02   2.68816787e-02]\n"
     ]
    }
   ],
   "source": [
    "print(model.feature_importances_)"
   ]
  },
  {
   "cell_type": "code",
   "execution_count": 45,
   "metadata": {
    "collapsed": false
   },
   "outputs": [
    {
     "name": "stdout",
     "output_type": "stream",
     "text": [
      "Features sorted by their score:\n",
      "[(0.9276, 'TotalPayBenefits'), (0.0542, 'BasePay'), (0.0095, 'Benefits'), (0.0059, 'OvertimePay'), (0.0029, 'OtherPay')]\n"
     ]
    }
   ],
   "source": [
    "names = sfdf2[independent_var]\n",
    "print \"Features sorted by their score:\"\n",
    "print sorted(zip(map(lambda x: round(x, 4), model.feature_importances_), names), \n",
    "             reverse=True)"
   ]
  },
  {
   "cell_type": "code",
   "execution_count": 33,
   "metadata": {
    "collapsed": false
   },
   "outputs": [
    {
     "data": {
      "text/plain": [
       "[DecisionTreeRegressor(criterion='mse', max_depth=None, max_features='auto',\n",
       "            max_leaf_nodes=None, min_samples_leaf=1, min_samples_split=2,\n",
       "            min_weight_fraction_leaf=0.0, random_state=1033474415,\n",
       "            splitter='best'),\n",
       " DecisionTreeRegressor(criterion='mse', max_depth=None, max_features='auto',\n",
       "            max_leaf_nodes=None, min_samples_leaf=1, min_samples_split=2,\n",
       "            min_weight_fraction_leaf=0.0, random_state=858658266,\n",
       "            splitter='best'),\n",
       " DecisionTreeRegressor(criterion='mse', max_depth=None, max_features='auto',\n",
       "            max_leaf_nodes=None, min_samples_leaf=1, min_samples_split=2,\n",
       "            min_weight_fraction_leaf=0.0, random_state=18457034,\n",
       "            splitter='best'),\n",
       " DecisionTreeRegressor(criterion='mse', max_depth=None, max_features='auto',\n",
       "            max_leaf_nodes=None, min_samples_leaf=1, min_samples_split=2,\n",
       "            min_weight_fraction_leaf=0.0, random_state=1708653702,\n",
       "            splitter='best'),\n",
       " DecisionTreeRegressor(criterion='mse', max_depth=None, max_features='auto',\n",
       "            max_leaf_nodes=None, min_samples_leaf=1, min_samples_split=2,\n",
       "            min_weight_fraction_leaf=0.0, random_state=1481657904,\n",
       "            splitter='best'),\n",
       " DecisionTreeRegressor(criterion='mse', max_depth=None, max_features='auto',\n",
       "            max_leaf_nodes=None, min_samples_leaf=1, min_samples_split=2,\n",
       "            min_weight_fraction_leaf=0.0, random_state=822164956,\n",
       "            splitter='best'),\n",
       " DecisionTreeRegressor(criterion='mse', max_depth=None, max_features='auto',\n",
       "            max_leaf_nodes=None, min_samples_leaf=1, min_samples_split=2,\n",
       "            min_weight_fraction_leaf=0.0, random_state=495251121,\n",
       "            splitter='best'),\n",
       " DecisionTreeRegressor(criterion='mse', max_depth=None, max_features='auto',\n",
       "            max_leaf_nodes=None, min_samples_leaf=1, min_samples_split=2,\n",
       "            min_weight_fraction_leaf=0.0, random_state=331282127,\n",
       "            splitter='best'),\n",
       " DecisionTreeRegressor(criterion='mse', max_depth=None, max_features='auto',\n",
       "            max_leaf_nodes=None, min_samples_leaf=1, min_samples_split=2,\n",
       "            min_weight_fraction_leaf=0.0, random_state=347390679,\n",
       "            splitter='best'),\n",
       " DecisionTreeRegressor(criterion='mse', max_depth=None, max_features='auto',\n",
       "            max_leaf_nodes=None, min_samples_leaf=1, min_samples_split=2,\n",
       "            min_weight_fraction_leaf=0.0, random_state=1753033315,\n",
       "            splitter='best')]"
      ]
     },
     "execution_count": 33,
     "metadata": {},
     "output_type": "execute_result"
    }
   ],
   "source": [
    "importances = model.feature_importances_\n",
    "std = np.std([tree.feature_importances_ for tree in model.estimators_],\n",
    "             axis=0)\n",
    "indices = np.argsort(importances)[::-1]"
   ]
  },
  {
   "cell_type": "code",
   "execution_count": 37,
   "metadata": {
    "collapsed": false
   },
   "outputs": [
    {
     "ename": "ValueError",
     "evalue": "continuous format is not supported",
     "output_type": "error",
     "traceback": [
      "\u001b[1;31m---------------------------------------------------------------------------\u001b[0m",
      "\u001b[1;31mValueError\u001b[0m                                Traceback (most recent call last)",
      "\u001b[1;32m<ipython-input-37-cafa2bf07e1e>\u001b[0m in \u001b[0;36m<module>\u001b[1;34m()\u001b[0m\n\u001b[1;32m----> 1\u001b[1;33m \u001b[0mroc_auc_score\u001b[0m\u001b[1;33m(\u001b[0m\u001b[0msfdf2\u001b[0m\u001b[1;33m[\u001b[0m\u001b[0mdependent_var\u001b[0m\u001b[1;33m]\u001b[0m\u001b[1;33m,\u001b[0m\u001b[0mmodel\u001b[0m\u001b[1;33m.\u001b[0m\u001b[0moob_score\u001b[0m\u001b[1;33m)\u001b[0m\u001b[1;33m\u001b[0m\u001b[0m\n\u001b[0m",
      "\u001b[1;32mC:\\Users\\mtare\\AppData\\Local\\Continuum\\Anaconda\\lib\\site-packages\\sklearn\\metrics\\ranking.pyc\u001b[0m in \u001b[0;36mroc_auc_score\u001b[1;34m(y_true, y_score, average, sample_weight)\u001b[0m\n\u001b[0;32m    244\u001b[0m     return _average_binary_score(\n\u001b[0;32m    245\u001b[0m         \u001b[0m_binary_roc_auc_score\u001b[0m\u001b[1;33m,\u001b[0m \u001b[0my_true\u001b[0m\u001b[1;33m,\u001b[0m \u001b[0my_score\u001b[0m\u001b[1;33m,\u001b[0m \u001b[0maverage\u001b[0m\u001b[1;33m,\u001b[0m\u001b[1;33m\u001b[0m\u001b[0m\n\u001b[1;32m--> 246\u001b[1;33m         sample_weight=sample_weight)\n\u001b[0m\u001b[0;32m    247\u001b[0m \u001b[1;33m\u001b[0m\u001b[0m\n\u001b[0;32m    248\u001b[0m \u001b[1;33m\u001b[0m\u001b[0m\n",
      "\u001b[1;32mC:\\Users\\mtare\\AppData\\Local\\Continuum\\Anaconda\\lib\\site-packages\\sklearn\\metrics\\base.pyc\u001b[0m in \u001b[0;36m_average_binary_score\u001b[1;34m(binary_metric, y_true, y_score, average, sample_weight)\u001b[0m\n\u001b[0;32m     74\u001b[0m     \u001b[0my_type\u001b[0m \u001b[1;33m=\u001b[0m \u001b[0mtype_of_target\u001b[0m\u001b[1;33m(\u001b[0m\u001b[0my_true\u001b[0m\u001b[1;33m)\u001b[0m\u001b[1;33m\u001b[0m\u001b[0m\n\u001b[0;32m     75\u001b[0m     \u001b[1;32mif\u001b[0m \u001b[0my_type\u001b[0m \u001b[1;32mnot\u001b[0m \u001b[1;32min\u001b[0m \u001b[1;33m(\u001b[0m\u001b[1;34m\"binary\"\u001b[0m\u001b[1;33m,\u001b[0m \u001b[1;34m\"multilabel-indicator\"\u001b[0m\u001b[1;33m)\u001b[0m\u001b[1;33m:\u001b[0m\u001b[1;33m\u001b[0m\u001b[0m\n\u001b[1;32m---> 76\u001b[1;33m         \u001b[1;32mraise\u001b[0m \u001b[0mValueError\u001b[0m\u001b[1;33m(\u001b[0m\u001b[1;34m\"{0} format is not supported\"\u001b[0m\u001b[1;33m.\u001b[0m\u001b[0mformat\u001b[0m\u001b[1;33m(\u001b[0m\u001b[0my_type\u001b[0m\u001b[1;33m)\u001b[0m\u001b[1;33m)\u001b[0m\u001b[1;33m\u001b[0m\u001b[0m\n\u001b[0m\u001b[0;32m     77\u001b[0m \u001b[1;33m\u001b[0m\u001b[0m\n\u001b[0;32m     78\u001b[0m     \u001b[1;32mif\u001b[0m \u001b[0my_type\u001b[0m \u001b[1;33m==\u001b[0m \u001b[1;34m\"binary\"\u001b[0m\u001b[1;33m:\u001b[0m\u001b[1;33m\u001b[0m\u001b[0m\n",
      "\u001b[1;31mValueError\u001b[0m: continuous format is not supported"
     ]
    }
   ],
   "source": []
  },
  {
   "cell_type": "code",
   "execution_count": null,
   "metadata": {
    "collapsed": true
   },
   "outputs": [],
   "source": []
  }
 ],
 "metadata": {
  "kernelspec": {
   "display_name": "Python 2",
   "language": "python",
   "name": "python2"
  },
  "language_info": {
   "codemirror_mode": {
    "name": "ipython",
    "version": 2
   },
   "file_extension": ".py",
   "mimetype": "text/x-python",
   "name": "python",
   "nbconvert_exporter": "python",
   "pygments_lexer": "ipython2",
   "version": "2.7.11"
  }
 },
 "nbformat": 4,
 "nbformat_minor": 0
}
